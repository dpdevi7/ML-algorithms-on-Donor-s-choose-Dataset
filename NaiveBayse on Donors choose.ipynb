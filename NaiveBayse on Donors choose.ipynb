{
 "cells": [
  {
   "cell_type": "code",
   "execution_count": 2,
   "metadata": {
    "pycharm": {
     "is_executing": false,
     "name": "#%%\n"
    }
   },
   "outputs": [],
   "source": [
    "import pandas as pd\n",
    "import numpy as np\n",
    "import nltk\n",
    "import matplotlib.pyplot as plt\n",
    "import seaborn as sns\n",
    "from sklearn.feature_extraction.text import TfidfVectorizer\n",
    "from sklearn.feature_extraction.text import CountVectorizer\n",
    "from sklearn.metrics import confusion_matrix\n",
    "from sklearn import metrics\n",
    "from sklearn.metrics import roc_curve, auc\n",
    "from sklearn.model_selection import train_test_split\n",
    "from sklearn.preprocessing import Normalizer\n",
    "import re\n",
    "from scipy.sparse import hstack\n",
    "import matplotlib.pyplot as plt\n",
    "from sklearn.neighbors import KNeighborsClassifier\n",
    "from sklearn.naive_bayes import MultinomialNB\n",
    "from sklearn.metrics import roc_auc_score\n",
    "import pickle\n",
    "from tqdm import tqdm\n",
    "import os\n",
    "from collections import Counter\n"
   ]
  },
  {
   "cell_type": "code",
   "execution_count": 3,
   "metadata": {
    "pycharm": {
     "name": "#%%\n"
    }
   },
   "outputs": [
    {
     "data": {
      "text/html": [
       "<div>\n",
       "<style scoped>\n",
       "    .dataframe tbody tr th:only-of-type {\n",
       "        vertical-align: middle;\n",
       "    }\n",
       "\n",
       "    .dataframe tbody tr th {\n",
       "        vertical-align: top;\n",
       "    }\n",
       "\n",
       "    .dataframe thead th {\n",
       "        text-align: right;\n",
       "    }\n",
       "</style>\n",
       "<table border=\"1\" class=\"dataframe\">\n",
       "  <thead>\n",
       "    <tr style=\"text-align: right;\">\n",
       "      <th></th>\n",
       "      <th>school_state</th>\n",
       "      <th>teacher_prefix</th>\n",
       "      <th>project_grade_category</th>\n",
       "      <th>teacher_number_of_previously_posted_projects</th>\n",
       "      <th>project_is_approved</th>\n",
       "      <th>clean_categories</th>\n",
       "      <th>clean_subcategories</th>\n",
       "      <th>essay</th>\n",
       "      <th>price</th>\n",
       "      <th>project_title</th>\n",
       "    </tr>\n",
       "  </thead>\n",
       "  <tbody>\n",
       "    <tr>\n",
       "      <th>0</th>\n",
       "      <td>ca</td>\n",
       "      <td>mrs</td>\n",
       "      <td>grades_prek_2</td>\n",
       "      <td>53</td>\n",
       "      <td>1</td>\n",
       "      <td>math_science</td>\n",
       "      <td>appliedsciences health_lifescience</td>\n",
       "      <td>i fortunate enough use fairy tale stem kits cl...</td>\n",
       "      <td>725.05</td>\n",
       "      <td>educational support english learners home</td>\n",
       "    </tr>\n",
       "  </tbody>\n",
       "</table>\n",
       "</div>"
      ],
      "text/plain": [
       "  school_state teacher_prefix project_grade_category  \\\n",
       "0           ca            mrs          grades_prek_2   \n",
       "\n",
       "   teacher_number_of_previously_posted_projects  project_is_approved  \\\n",
       "0                                            53                    1   \n",
       "\n",
       "  clean_categories                 clean_subcategories  \\\n",
       "0     math_science  appliedsciences health_lifescience   \n",
       "\n",
       "                                               essay   price  \\\n",
       "0  i fortunate enough use fairy tale stem kits cl...  725.05   \n",
       "\n",
       "                               project_title  \n",
       "0  educational support english learners home  "
      ]
     },
     "execution_count": 3,
     "metadata": {},
     "output_type": "execute_result"
    }
   ],
   "source": [
    "data = pd.read_csv(\"preprocessed_data.csv\", nrows=50000)\n",
    "data.head(1)"
   ]
  },
  {
   "cell_type": "code",
   "execution_count": 4,
   "metadata": {},
   "outputs": [
    {
     "data": {
      "text/html": [
       "<div>\n",
       "<style scoped>\n",
       "    .dataframe tbody tr th:only-of-type {\n",
       "        vertical-align: middle;\n",
       "    }\n",
       "\n",
       "    .dataframe tbody tr th {\n",
       "        vertical-align: top;\n",
       "    }\n",
       "\n",
       "    .dataframe thead th {\n",
       "        text-align: right;\n",
       "    }\n",
       "</style>\n",
       "<table border=\"1\" class=\"dataframe\">\n",
       "  <thead>\n",
       "    <tr style=\"text-align: right;\">\n",
       "      <th></th>\n",
       "      <th>school_state</th>\n",
       "      <th>teacher_prefix</th>\n",
       "      <th>project_grade_category</th>\n",
       "      <th>teacher_number_of_previously_posted_projects</th>\n",
       "      <th>clean_categories</th>\n",
       "      <th>clean_subcategories</th>\n",
       "      <th>essay</th>\n",
       "      <th>price</th>\n",
       "      <th>project_title</th>\n",
       "    </tr>\n",
       "  </thead>\n",
       "  <tbody>\n",
       "    <tr>\n",
       "      <th>0</th>\n",
       "      <td>ca</td>\n",
       "      <td>mrs</td>\n",
       "      <td>grades_prek_2</td>\n",
       "      <td>53</td>\n",
       "      <td>math_science</td>\n",
       "      <td>appliedsciences health_lifescience</td>\n",
       "      <td>i fortunate enough use fairy tale stem kits cl...</td>\n",
       "      <td>725.05</td>\n",
       "      <td>educational support english learners home</td>\n",
       "    </tr>\n",
       "  </tbody>\n",
       "</table>\n",
       "</div>"
      ],
      "text/plain": [
       "  school_state teacher_prefix project_grade_category  \\\n",
       "0           ca            mrs          grades_prek_2   \n",
       "\n",
       "   teacher_number_of_previously_posted_projects clean_categories  \\\n",
       "0                                            53     math_science   \n",
       "\n",
       "                  clean_subcategories  \\\n",
       "0  appliedsciences health_lifescience   \n",
       "\n",
       "                                               essay   price  \\\n",
       "0  i fortunate enough use fairy tale stem kits cl...  725.05   \n",
       "\n",
       "                               project_title  \n",
       "0  educational support english learners home  "
      ]
     },
     "execution_count": 4,
     "metadata": {},
     "output_type": "execute_result"
    }
   ],
   "source": [
    "y = data[\"project_is_approved\"].values\n",
    "x = data.drop([\"project_is_approved\"], axis=1)\n",
    "\n",
    "x.head(1)"
   ]
  },
  {
   "cell_type": "markdown",
   "metadata": {},
   "source": [
    "# Splitting train, CV and test"
   ]
  },
  {
   "cell_type": "code",
   "execution_count": 5,
   "metadata": {},
   "outputs": [
    {
     "name": "stdout",
     "output_type": "stream",
     "text": [
      "(22445, 9)\n",
      "(11055, 9)\n",
      "(16500, 9)\n"
     ]
    }
   ],
   "source": [
    "x_train, x_test, y_train, y_test = train_test_split(x, y, test_size=0.33, stratify=y)\n",
    "x_train, x_cv, y_train, y_cv = train_test_split(x_train, y_train, test_size=0.33, stratify=y_train)\n",
    "\n",
    "print(x_train.shape)\n",
    "print(x_cv.shape)\n",
    "print(x_test.shape)"
   ]
  },
  {
   "cell_type": "markdown",
   "metadata": {},
   "source": [
    "# Vectorizing price"
   ]
  },
  {
   "cell_type": "code",
   "execution_count": 6,
   "metadata": {},
   "outputs": [
    {
     "name": "stdout",
     "output_type": "stream",
     "text": [
      "(22445, 1)\n",
      "(11055, 1)\n",
      "(16500, 1)\n"
     ]
    }
   ],
   "source": [
    "# Vectorizing price\n",
    "\n",
    "normalizer_price = Normalizer()\n",
    "normalizer_price.fit(x_train['price'].values.reshape(-1, 1))\n",
    "\n",
    "x_train_price_norm = normalizer_price.transform(x_train['price'].values.reshape(-1, 1))\n",
    "x_cv_price_norm = normalizer_price.transform(x_cv['price'].values.reshape(-1, 1))\n",
    "x_test_price_norm = normalizer_price.transform(x_test['price'].values.reshape(-1, 1))\n",
    "\n",
    "print(x_train_price_norm.shape)\n",
    "print(x_cv_price_norm.shape)\n",
    "print(x_test_price_norm.shape)"
   ]
  },
  {
   "cell_type": "markdown",
   "metadata": {},
   "source": [
    "# Vectorizing teacher_number_of_previously_posted_projects"
   ]
  },
  {
   "cell_type": "code",
   "execution_count": 7,
   "metadata": {},
   "outputs": [
    {
     "name": "stdout",
     "output_type": "stream",
     "text": [
      "(22445, 1)\n",
      "(11055, 1)\n",
      "(16500, 1)\n"
     ]
    }
   ],
   "source": [
    "# Vectorizing teacher_number_of_previously_posted_projects\n",
    "\n",
    "\n",
    "normalizer_teacher_number_of_previously_posted_projects = Normalizer()\n",
    "\n",
    "normalizer_teacher_number_of_previously_posted_projects.fit(x_train['teacher_number_of_previously_posted_projects'].values.reshape(-1, 1))\n",
    "\n",
    "x_train_pre_posted_norm = normalizer_teacher_number_of_previously_posted_projects.transform(\n",
    "    x_train['teacher_number_of_previously_posted_projects'].values.reshape(-1, 1))\n",
    "x_cv_pre_posted_norm = normalizer_teacher_number_of_previously_posted_projects.transform(x_cv['teacher_number_of_previously_posted_projects'].values.reshape(-1, 1))\n",
    "x_test_pre_posted_norm = normalizer_teacher_number_of_previously_posted_projects.transform(\n",
    "    x_test['teacher_number_of_previously_posted_projects'].values.reshape(-1, 1))\n",
    "\n",
    "print(x_train_pre_posted_norm.shape)\n",
    "print(x_cv_pre_posted_norm.shape)\n",
    "print(x_test_pre_posted_norm.shape)"
   ]
  },
  {
   "cell_type": "markdown",
   "metadata": {},
   "source": [
    "# Vectorizing essay (BOW, TF_IDF)"
   ]
  },
  {
   "cell_type": "markdown",
   "metadata": {},
   "source": [
    "Essay"
   ]
  },
  {
   "cell_type": "code",
   "execution_count": 8,
   "metadata": {},
   "outputs": [
    {
     "name": "stdout",
     "output_type": "stream",
     "text": [
      "(22445, 5000)\n",
      "(11055, 5000)\n",
      "(16500, 5000)\n",
      "==================================================\n",
      "TFIDF Encoded\n",
      "(22445, 5000)\n",
      "(11055, 5000)\n",
      "(16500, 5000)\n"
     ]
    }
   ],
   "source": [
    "# https://www.kaggle.com/nafisur/sentiment-analysis-for-beginner\n",
    "\n",
    "# Vectorizing essay (BOW, TF_IDF)\n",
    "\n",
    "countVectorizer_essay = CountVectorizer(min_df=10, max_features=5000)\n",
    "tfidfVectorizer_essay = TfidfVectorizer(min_df=10, max_features=5000)\n",
    "\n",
    "countVectorizer_essay.fit(x_train['essay'].values)\n",
    "tfidfVectorizer_essay.fit(x_train['essay'].values)\n",
    "\n",
    "x_train_essay_bow = countVectorizer_essay.transform(x_train['essay'].values)\n",
    "x_cv_essay_bow = countVectorizer_essay.transform(x_cv['essay'].values)\n",
    "x_test_essay_bow = countVectorizer_essay.transform(x_test['essay'].values)\n",
    "\n",
    "x_train_essay_tfidf = tfidfVectorizer_essay.transform(x_train['essay'].values)\n",
    "x_cv_essay_tfidf = tfidfVectorizer_essay.transform(x_cv['essay'].values)\n",
    "x_test_essay_tfidf = tfidfVectorizer_essay.transform(x_test['essay'].values)\n",
    "\n",
    "print(x_train_essay_bow.shape)\n",
    "print(x_cv_essay_bow.shape)\n",
    "print(x_test_essay_bow.shape)\n",
    "\n",
    "print(\"=\" * 50)\n",
    "print(\"TFIDF Encoded\")\n",
    "\n",
    "print(x_train_essay_tfidf.shape)\n",
    "print(x_cv_essay_tfidf.shape)\n",
    "print(x_test_essay_tfidf.shape)\n"
   ]
  },
  {
   "cell_type": "markdown",
   "metadata": {},
   "source": [
    "# Vectorizing project_title ((BOW, TF_IDF))"
   ]
  },
  {
   "cell_type": "markdown",
   "metadata": {},
   "source": [
    "Project Title"
   ]
  },
  {
   "cell_type": "code",
   "execution_count": 9,
   "metadata": {},
   "outputs": [
    {
     "name": "stdout",
     "output_type": "stream",
     "text": [
      "(22445, 1153)\n",
      "(11055, 1153)\n",
      "(16500, 1153)\n",
      "==================================================\n",
      "TFIDF Encoded\n",
      "(22445, 1153)\n",
      "(11055, 1153)\n",
      "(16500, 1153)\n"
     ]
    }
   ],
   "source": [
    "# Vectorizing project_title ((BOW, TF_IDF))\n",
    "\n",
    "countVectorizer_project_title = CountVectorizer(min_df=10, max_features=5000)\n",
    "tfidfVectorizer_project_title = TfidfVectorizer(min_df=10, max_features=5000)\n",
    "\n",
    "countVectorizer_project_title.fit(x_train['project_title'].astype('U').values)\n",
    "tfidfVectorizer_project_title.fit(x_train['project_title'].astype('U').values)\n",
    "\n",
    "x_train_project_title_bow = countVectorizer_project_title.transform(x_train['project_title'].astype('U').values)\n",
    "x_cv_project_title_bow = countVectorizer_project_title.transform(x_cv['project_title'].astype('U').values)\n",
    "x_test_project_title_bow = countVectorizer_project_title.transform(x_test['project_title'].astype('U').values)\n",
    "\n",
    "x_train_project_title_tfidf = tfidfVectorizer_project_title.transform(x_train['project_title'].astype('U').values)\n",
    "x_cv_project_title_tfidf = tfidfVectorizer_project_title.transform(x_cv['project_title'].astype('U').values)\n",
    "x_test_project_title_tfidf = tfidfVectorizer_project_title.transform(x_test['project_title'].astype('U').values)\n",
    "\n",
    "print(x_train_project_title_bow.shape)\n",
    "print(x_cv_project_title_bow.shape)\n",
    "print(x_test_project_title_bow.shape)\n",
    "\n",
    "print(\"=\" * 50)\n",
    "print(\"TFIDF Encoded\")\n",
    "\n",
    "print(x_train_project_title_tfidf.shape)\n",
    "print(x_cv_project_title_tfidf.shape)\n",
    "print(x_test_project_title_tfidf.shape)"
   ]
  },
  {
   "cell_type": "markdown",
   "metadata": {},
   "source": [
    "# Vectorizing school_state"
   ]
  },
  {
   "cell_type": "code",
   "execution_count": 10,
   "metadata": {},
   "outputs": [
    {
     "name": "stdout",
     "output_type": "stream",
     "text": [
      "(22445, 51) (22445,)\n",
      "(11055, 51) (11055,)\n",
      "(16500, 51) (16500,)\n"
     ]
    }
   ],
   "source": [
    "# Vectorizing school_state\n",
    "\n",
    "countVectorizer_school_state = CountVectorizer()\n",
    "\n",
    "countVectorizer_school_state.fit(x_train['school_state'].values)\n",
    "\n",
    "x_train_school_state_ohe = countVectorizer_school_state.transform(x_train['school_state'].values)\n",
    "x_cv_school_state_ohe = countVectorizer_school_state.transform(x_cv['school_state'].values)\n",
    "x_test_school_state_ohe = countVectorizer_school_state.transform(x_test['school_state'].values)\n",
    "\n",
    "print(x_train_school_state_ohe.shape, y_train.shape)\n",
    "print(x_cv_school_state_ohe.shape, y_cv.shape)\n",
    "print(x_test_school_state_ohe.shape, y_test.shape)"
   ]
  },
  {
   "cell_type": "code",
   "execution_count": 11,
   "metadata": {},
   "outputs": [],
   "source": [
    "# Vectorizing teacher_prefix"
   ]
  },
  {
   "cell_type": "code",
   "execution_count": 12,
   "metadata": {},
   "outputs": [
    {
     "name": "stdout",
     "output_type": "stream",
     "text": [
      "(22445, 5)\n",
      "(11055, 5)\n",
      "(16500, 5)\n"
     ]
    }
   ],
   "source": [
    "# Vectorizing teacher_prefix\n",
    "\n",
    "\n",
    "countVectorizer_teacher_prefix = CountVectorizer()\n",
    "\n",
    "countVectorizer_teacher_prefix.fit(x_train['teacher_prefix'].values)\n",
    "\n",
    "x_train_teacher_prefix_ohe = countVectorizer_teacher_prefix.transform(x_train['teacher_prefix'].values)\n",
    "x_cv_teacher_prefix_ohe = countVectorizer_teacher_prefix.transform(x_cv['teacher_prefix'].values)\n",
    "x_test_teacher_prefix_ohe = countVectorizer_teacher_prefix.transform(x_test['teacher_prefix'].values)\n",
    "\n",
    "print(x_train_teacher_prefix_ohe.shape)\n",
    "print(x_cv_teacher_prefix_ohe.shape)\n",
    "print(x_test_teacher_prefix_ohe.shape)"
   ]
  },
  {
   "cell_type": "code",
   "execution_count": 13,
   "metadata": {},
   "outputs": [],
   "source": [
    "# Vectorizing project_grade_category"
   ]
  },
  {
   "cell_type": "code",
   "execution_count": 14,
   "metadata": {},
   "outputs": [
    {
     "name": "stdout",
     "output_type": "stream",
     "text": [
      "(22445, 4)\n",
      "(11055, 4)\n",
      "(16500, 4)\n"
     ]
    }
   ],
   "source": [
    "# Vectorizing project_grade_category\n",
    "\n",
    "countVectorizer_project_grade_category = CountVectorizer()\n",
    "\n",
    "countVectorizer_project_grade_category.fit(x_train['project_grade_category'].values)\n",
    "\n",
    "x_train_project_grade_category_ohe = countVectorizer_project_grade_category.transform(x_train['project_grade_category'].values)\n",
    "x_cv_project_grade_category_ohe = countVectorizer_project_grade_category.transform(x_cv['project_grade_category'].values)\n",
    "x_test_project_grade_category_ohe = countVectorizer_project_grade_category.transform(x_test['project_grade_category'].values)\n",
    "\n",
    "print(x_train_project_grade_category_ohe.shape)\n",
    "print(x_cv_project_grade_category_ohe.shape)\n",
    "print(x_test_project_grade_category_ohe.shape)\n"
   ]
  },
  {
   "cell_type": "code",
   "execution_count": 15,
   "metadata": {},
   "outputs": [],
   "source": [
    "# Vectorizing clean_categories"
   ]
  },
  {
   "cell_type": "code",
   "execution_count": 16,
   "metadata": {},
   "outputs": [
    {
     "name": "stdout",
     "output_type": "stream",
     "text": [
      "(22445, 9)\n",
      "(11055, 9)\n",
      "(16500, 9)\n"
     ]
    }
   ],
   "source": [
    "# Vectorizing clean_categories\n",
    "\n",
    "countVectorizer_clean_categories = CountVectorizer()\n",
    "\n",
    "countVectorizer_clean_categories.fit(x_train['clean_categories'].values)\n",
    "\n",
    "x_train_category_ohe = countVectorizer_clean_categories.transform(x_train['clean_categories'].values)\n",
    "x_cv_category_ohe = countVectorizer_clean_categories.transform(x_cv['clean_categories'].values)\n",
    "x_test_category_ohe = countVectorizer_clean_categories.transform(x_test['clean_categories'].values)\n",
    "\n",
    "print(x_train_category_ohe.shape)\n",
    "print(x_cv_category_ohe.shape)\n",
    "print(x_test_category_ohe.shape)"
   ]
  },
  {
   "cell_type": "code",
   "execution_count": 17,
   "metadata": {},
   "outputs": [],
   "source": [
    "# Vectorizing clean_subcategories"
   ]
  },
  {
   "cell_type": "code",
   "execution_count": 18,
   "metadata": {},
   "outputs": [
    {
     "name": "stdout",
     "output_type": "stream",
     "text": [
      "(22445, 30)\n",
      "(11055, 30)\n",
      "(16500, 30)\n"
     ]
    }
   ],
   "source": [
    "# Vectorizing clean_subcategories\n",
    "\n",
    "countVectorizer_clean_subcategories = CountVectorizer()\n",
    "\n",
    "countVectorizer_clean_subcategories.fit(x_train['clean_subcategories'].values)\n",
    "\n",
    "x_train_clean_subcategories_ohe = countVectorizer_clean_subcategories.transform(x_train['clean_subcategories'].values)\n",
    "x_cv_clean_subcategories_ohe = countVectorizer_clean_subcategories.transform(x_cv['clean_subcategories'].values)\n",
    "x_test_clean_subcategories_ohe = countVectorizer_clean_subcategories.transform(x_test['clean_subcategories'].values)\n",
    "\n",
    "print(x_train_clean_subcategories_ohe.shape)\n",
    "print(x_cv_clean_subcategories_ohe.shape)\n",
    "print(x_test_clean_subcategories_ohe.shape)"
   ]
  },
  {
   "cell_type": "markdown",
   "metadata": {},
   "source": [
    "# Create Sparse matrix set 1 (title, essay with BOW representation)"
   ]
  },
  {
   "cell_type": "code",
   "execution_count": 19,
   "metadata": {},
   "outputs": [
    {
     "name": "stdout",
     "output_type": "stream",
     "text": [
      "(22445, 6202)\n",
      "(11055, 6202)\n",
      "(16500, 6202)\n"
     ]
    }
   ],
   "source": [
    "# Concatinating all the features   (BOW Vectorization)\n",
    "\n",
    "x_tr_set_1 = hstack((x_train_price_norm,\n",
    "                     x_train_clean_subcategories_ohe,\n",
    "                     x_train_category_ohe,\n",
    "                     x_train_project_grade_category_ohe,\n",
    "                     x_train_essay_bow,\n",
    "                     x_train_teacher_prefix_ohe,\n",
    "                     x_train_project_title_bow)).tocsr()\n",
    "\n",
    "x_cv_set_1 = hstack((x_cv_price_norm,\n",
    "                     x_cv_clean_subcategories_ohe,\n",
    "                     x_cv_category_ohe,\n",
    "                     x_cv_project_grade_category_ohe,\n",
    "                     x_cv_essay_bow,\n",
    "                     x_cv_teacher_prefix_ohe,\n",
    "                     x_cv_project_title_bow)).tocsr()\n",
    "\n",
    "x_te_set_1 = hstack((x_test_price_norm,\n",
    "                     x_test_clean_subcategories_ohe,\n",
    "                     x_test_category_ohe,\n",
    "                     x_test_project_grade_category_ohe,\n",
    "                     x_test_essay_bow,\n",
    "                     x_test_teacher_prefix_ohe,\n",
    "                     x_test_project_title_bow)).tocsr()\n",
    "\n",
    "print(x_tr_set_1.shape)\n",
    "print(x_cv_set_1.shape)\n",
    "print(x_te_set_1.shape)"
   ]
  },
  {
   "cell_type": "markdown",
   "metadata": {},
   "source": [
    "# Create Sparse matrix set 2 (title, essay with TF-IDF representation)"
   ]
  },
  {
   "cell_type": "code",
   "execution_count": 20,
   "metadata": {},
   "outputs": [
    {
     "name": "stdout",
     "output_type": "stream",
     "text": [
      "(22445, 6202)\n",
      "(11055, 6202)\n",
      "(16500, 6202)\n"
     ]
    }
   ],
   "source": [
    "# Concatinating all the features (TF_IDF vectorization)\n",
    "\n",
    "x_tr_set_2 = hstack((x_train_price_norm,\n",
    "                     x_train_clean_subcategories_ohe,\n",
    "                     x_train_category_ohe,\n",
    "                     x_train_project_grade_category_ohe,\n",
    "                     x_train_essay_tfidf,\n",
    "                     x_train_teacher_prefix_ohe,\n",
    "                     x_train_project_title_tfidf)).tocsr()\n",
    "\n",
    "x_cv_set_2 = hstack((x_cv_price_norm,\n",
    "                     x_cv_clean_subcategories_ohe,\n",
    "                     x_cv_category_ohe,\n",
    "                     x_cv_project_grade_category_ohe,\n",
    "                     x_cv_essay_tfidf,\n",
    "                     x_cv_teacher_prefix_ohe,\n",
    "                     x_cv_project_title_tfidf)).tocsr()\n",
    "\n",
    "x_te_set_2 = hstack((x_test_price_norm,\n",
    "                     x_test_clean_subcategories_ohe,\n",
    "                     x_test_category_ohe,\n",
    "                     x_test_project_grade_category_ohe,\n",
    "                     x_test_essay_tfidf,\n",
    "                     x_test_teacher_prefix_ohe,\n",
    "                     x_test_project_title_tfidf)).tocsr()\n",
    "\n",
    "print(x_tr_set_2.shape)\n",
    "print(x_cv_set_2.shape)\n",
    "print(x_te_set_2.shape)"
   ]
  },
  {
   "cell_type": "markdown",
   "metadata": {},
   "source": [
    "# Batch Predict"
   ]
  },
  {
   "cell_type": "code",
   "execution_count": 21,
   "metadata": {},
   "outputs": [],
   "source": [
    "# Batch Predict\n",
    "\n",
    "def batch_predict(clf, data):\n",
    "    # roc_auc_score(y_true, y_score) the 2nd parameter should be probability estimates of the positive class\n",
    "    # not the predicted outputs\n",
    "\n",
    "    y_data_pred = []\n",
    "    tr_loop = data.shape[0] - data.shape[0] % 1000\n",
    "    # consider you X_tr shape is 49041, then your tr_loop will be 49041 - 49041%1000 = 49000\n",
    "    # in this for loop we will iterate unti the last 1000 multiplier\n",
    "    for i in range(0, tr_loop, 1000):\n",
    "        y_data_pred.extend(clf.predict_proba(data[i:i + 1000])[:, 1])\n",
    "    # we will be predicting for the last data points\n",
    "    if data.shape[0] % 1000 != 0:\n",
    "        y_data_pred.extend(clf.predict_proba(data[tr_loop:])[:, 1])\n",
    "\n",
    "    return y_data_pred"
   ]
  },
  {
   "cell_type": "markdown",
   "metadata": {},
   "source": [
    "# Hyper Parameter tunning on set_1(BOW) , gridsearchCV"
   ]
  },
  {
   "cell_type": "code",
   "execution_count": 23,
   "metadata": {},
   "outputs": [
    {
     "data": {
      "image/png": "[encoded data removed]",
      "text/plain": [
       "<Figure size 432x288 with 1 Axes>"
      ]
     },
     "metadata": {
      "needs_background": "light"
     },
     "output_type": "display_data"
    },
    {
     "data": {
      "text/html": [
       "<div>\n",
       "<style scoped>\n",
       "    .dataframe tbody tr th:only-of-type {\n",
       "        vertical-align: middle;\n",
       "    }\n",
       "\n",
       "    .dataframe tbody tr th {\n",
       "        vertical-align: top;\n",
       "    }\n",
       "\n",
       "    .dataframe thead th {\n",
       "        text-align: right;\n",
       "    }\n",
       "</style>\n",
       "<table border=\"1\" class=\"dataframe\">\n",
       "  <thead>\n",
       "    <tr style=\"text-align: right;\">\n",
       "      <th></th>\n",
       "      <th>mean_fit_time</th>\n",
       "      <th>std_fit_time</th>\n",
       "      <th>mean_score_time</th>\n",
       "      <th>std_score_time</th>\n",
       "      <th>param_alpha</th>\n",
       "      <th>params</th>\n",
       "      <th>split0_test_score</th>\n",
       "      <th>split1_test_score</th>\n",
       "      <th>split2_test_score</th>\n",
       "      <th>split3_test_score</th>\n",
       "      <th>...</th>\n",
       "      <th>split2_train_score</th>\n",
       "      <th>split3_train_score</th>\n",
       "      <th>split4_train_score</th>\n",
       "      <th>split5_train_score</th>\n",
       "      <th>split6_train_score</th>\n",
       "      <th>split7_train_score</th>\n",
       "      <th>split8_train_score</th>\n",
       "      <th>split9_train_score</th>\n",
       "      <th>mean_train_score</th>\n",
       "      <th>std_train_score</th>\n",
       "    </tr>\n",
       "  </thead>\n",
       "  <tbody>\n",
       "    <tr>\n",
       "      <th>0</th>\n",
       "      <td>0.051913</td>\n",
       "      <td>0.003019</td>\n",
       "      <td>0.006188</td>\n",
       "      <td>0.001626</td>\n",
       "      <td>1</td>\n",
       "      <td>{'alpha': 1.0}</td>\n",
       "      <td>0.689620</td>\n",
       "      <td>0.704801</td>\n",
       "      <td>0.708421</td>\n",
       "      <td>0.717427</td>\n",
       "      <td>...</td>\n",
       "      <td>0.804511</td>\n",
       "      <td>0.804775</td>\n",
       "      <td>0.807282</td>\n",
       "      <td>0.806769</td>\n",
       "      <td>0.803273</td>\n",
       "      <td>0.806603</td>\n",
       "      <td>0.808024</td>\n",
       "      <td>0.808780</td>\n",
       "      <td>0.806464</td>\n",
       "      <td>0.001651</td>\n",
       "    </tr>\n",
       "    <tr>\n",
       "      <th>1</th>\n",
       "      <td>0.051157</td>\n",
       "      <td>0.001457</td>\n",
       "      <td>0.005704</td>\n",
       "      <td>0.000453</td>\n",
       "      <td>0.811131</td>\n",
       "      <td>{'alpha': 0.8111308307896871}</td>\n",
       "      <td>0.689999</td>\n",
       "      <td>0.705576</td>\n",
       "      <td>0.709125</td>\n",
       "      <td>0.718202</td>\n",
       "      <td>...</td>\n",
       "      <td>0.806446</td>\n",
       "      <td>0.806710</td>\n",
       "      <td>0.809141</td>\n",
       "      <td>0.808673</td>\n",
       "      <td>0.805137</td>\n",
       "      <td>0.808521</td>\n",
       "      <td>0.809865</td>\n",
       "      <td>0.810745</td>\n",
       "      <td>0.808370</td>\n",
       "      <td>0.001656</td>\n",
       "    </tr>\n",
       "    <tr>\n",
       "      <th>2</th>\n",
       "      <td>0.050562</td>\n",
       "      <td>0.000828</td>\n",
       "      <td>0.005468</td>\n",
       "      <td>0.000521</td>\n",
       "      <td>0.657933</td>\n",
       "      <td>{'alpha': 0.657933224657568}</td>\n",
       "      <td>0.690317</td>\n",
       "      <td>0.706360</td>\n",
       "      <td>0.709562</td>\n",
       "      <td>0.718889</td>\n",
       "      <td>...</td>\n",
       "      <td>0.808069</td>\n",
       "      <td>0.808348</td>\n",
       "      <td>0.810707</td>\n",
       "      <td>0.810302</td>\n",
       "      <td>0.806727</td>\n",
       "      <td>0.810143</td>\n",
       "      <td>0.811448</td>\n",
       "      <td>0.812428</td>\n",
       "      <td>0.809988</td>\n",
       "      <td>0.001664</td>\n",
       "    </tr>\n",
       "    <tr>\n",
       "      <th>3</th>\n",
       "      <td>0.054224</td>\n",
       "      <td>0.004584</td>\n",
       "      <td>0.005579</td>\n",
       "      <td>0.000610</td>\n",
       "      <td>0.53367</td>\n",
       "      <td>{'alpha': 0.533669923120631}</td>\n",
       "      <td>0.690439</td>\n",
       "      <td>0.706938</td>\n",
       "      <td>0.709859</td>\n",
       "      <td>0.719327</td>\n",
       "      <td>...</td>\n",
       "      <td>0.809471</td>\n",
       "      <td>0.809768</td>\n",
       "      <td>0.812061</td>\n",
       "      <td>0.811693</td>\n",
       "      <td>0.808083</td>\n",
       "      <td>0.811539</td>\n",
       "      <td>0.812780</td>\n",
       "      <td>0.813860</td>\n",
       "      <td>0.811374</td>\n",
       "      <td>0.001667</td>\n",
       "    </tr>\n",
       "    <tr>\n",
       "      <th>4</th>\n",
       "      <td>0.050887</td>\n",
       "      <td>0.001219</td>\n",
       "      <td>0.005696</td>\n",
       "      <td>0.000638</td>\n",
       "      <td>0.432876</td>\n",
       "      <td>{'alpha': 0.43287612810830584}</td>\n",
       "      <td>0.690559</td>\n",
       "      <td>0.707174</td>\n",
       "      <td>0.710119</td>\n",
       "      <td>0.719643</td>\n",
       "      <td>...</td>\n",
       "      <td>0.810681</td>\n",
       "      <td>0.810996</td>\n",
       "      <td>0.813219</td>\n",
       "      <td>0.812885</td>\n",
       "      <td>0.809240</td>\n",
       "      <td>0.812719</td>\n",
       "      <td>0.813943</td>\n",
       "      <td>0.815093</td>\n",
       "      <td>0.812567</td>\n",
       "      <td>0.001672</td>\n",
       "    </tr>\n",
       "  </tbody>\n",
       "</table>\n",
       "<p>5 rows × 31 columns</p>\n",
       "</div>"
      ],
      "text/plain": [
       "   mean_fit_time  std_fit_time  mean_score_time  std_score_time param_alpha  \\\n",
       "0       0.051913      0.003019         0.006188        0.001626           1   \n",
       "1       0.051157      0.001457         0.005704        0.000453    0.811131   \n",
       "2       0.050562      0.000828         0.005468        0.000521    0.657933   \n",
       "3       0.054224      0.004584         0.005579        0.000610     0.53367   \n",
       "4       0.050887      0.001219         0.005696        0.000638    0.432876   \n",
       "\n",
       "                           params  split0_test_score  split1_test_score  \\\n",
       "0                  {'alpha': 1.0}           0.689620           0.704801   \n",
       "1   {'alpha': 0.8111308307896871}           0.689999           0.705576   \n",
       "2    {'alpha': 0.657933224657568}           0.690317           0.706360   \n",
       "3    {'alpha': 0.533669923120631}           0.690439           0.706938   \n",
       "4  {'alpha': 0.43287612810830584}           0.690559           0.707174   \n",
       "\n",
       "   split2_test_score  split3_test_score  ...  split2_train_score  \\\n",
       "0           0.708421           0.717427  ...            0.804511   \n",
       "1           0.709125           0.718202  ...            0.806446   \n",
       "2           0.709562           0.718889  ...            0.808069   \n",
       "3           0.709859           0.719327  ...            0.809471   \n",
       "4           0.710119           0.719643  ...            0.810681   \n",
       "\n",
       "   split3_train_score  split4_train_score  split5_train_score  \\\n",
       "0            0.804775            0.807282            0.806769   \n",
       "1            0.806710            0.809141            0.808673   \n",
       "2            0.808348            0.810707            0.810302   \n",
       "3            0.809768            0.812061            0.811693   \n",
       "4            0.810996            0.813219            0.812885   \n",
       "\n",
       "   split6_train_score  split7_train_score  split8_train_score  \\\n",
       "0            0.803273            0.806603            0.808024   \n",
       "1            0.805137            0.808521            0.809865   \n",
       "2            0.806727            0.810143            0.811448   \n",
       "3            0.808083            0.811539            0.812780   \n",
       "4            0.809240            0.812719            0.813943   \n",
       "\n",
       "   split9_train_score  mean_train_score  std_train_score  \n",
       "0            0.808780          0.806464         0.001651  \n",
       "1            0.810745          0.808370         0.001656  \n",
       "2            0.812428          0.809988         0.001664  \n",
       "3            0.813860          0.811374         0.001667  \n",
       "4            0.815093          0.812567         0.001672  \n",
       "\n",
       "[5 rows x 31 columns]"
      ]
     },
     "execution_count": 23,
     "metadata": {},
     "output_type": "execute_result"
    }
   ],
   "source": [
    "# GridSearchCV on SET_1\n",
    "\n",
    "# https://www.featureranking.com/tutorials/machine-learning-tutorials/sk-part-3-cross-validation-and-hyperparameter-tuning/\n",
    "\n",
    "from sklearn.model_selection import GridSearchCV\n",
    "from scipy.stats import randint as sp_randint\n",
    "from sklearn.model_selection import RandomizedSearchCV\n",
    "\n",
    "nb = MultinomialNB()\n",
    "# alphas = [0.00001, 0.0001, 0.001 ,0.01, 0.1, 0.25, 0.5, 0.8, 1]\n",
    "# p_grid_NB = {'alpha': alphas, 'fit_prior': [False]}\n",
    "p_grid_NB = {'alpha': np.logspace(0,-9, num=100)}\n",
    "\n",
    "gridSearchCv_1 = GridSearchCV(estimator=nb, param_grid=p_grid_NB, cv=10, scoring='roc_auc', return_train_score=True)\n",
    "gridSearchCv_1.fit(x_tr_set_1, y_train)\n",
    "\n",
    "\n",
    "results = pd.DataFrame.from_dict(gridSearchCv_1.cv_results_)\n",
    "\n",
    "train_auc = results['mean_train_score']\n",
    "train_auc_std = results['std_train_score']\n",
    "cv_auc = results['mean_test_score']\n",
    "cv_auc_std = results['std_test_score']\n",
    "\n",
    "\n",
    "plt.plot(p_grid_NB[\"alpha\"], train_auc, label='Train AUC')\n",
    "# this code is copied from here: https://stackoverflow.com/a/48803361/4084039\n",
    "# plt.gca().fill_between(K, train_auc - train_auc_std,train_auc + train_auc_std,alpha=0.2,color='darkblue')\n",
    "\n",
    "plt.plot(p_grid_NB[\"alpha\"], cv_auc, label='CV AUC')\n",
    "# this code is copied from here: https://stackoverflow.com/a/48803361/4084039\n",
    "# plt.gca().fill_between(K, cv_auc - cv_auc_std,cv_auc + cv_auc_std,alpha=0.2,color='darkorange')\n",
    "\n",
    "plt.scatter(p_grid_NB[\"alpha\"], train_auc, label='Train AUC points')\n",
    "plt.scatter(p_grid_NB[\"alpha\"], cv_auc, label='CV AUC points')\n",
    "\n",
    "plt.legend()\n",
    "plt.xlabel(\"alphas: hyperparameter\")\n",
    "plt.ylabel(\"AUC\")\n",
    "plt.title(\"Hyper parameter Vs AUC plot on BOG representation (set 1)\")\n",
    "plt.grid()\n",
    "plt.show()\n",
    "\n",
    "results.head()\n",
    "\n"
   ]
  },
  {
   "cell_type": "markdown",
   "metadata": {},
   "source": [
    "# Hyperparameter tunning in set_2 (TF-IDF) using GridsearchCV"
   ]
  },
  {
   "cell_type": "code",
   "execution_count": 25,
   "metadata": {},
   "outputs": [
    {
     "data": {
      "image/png": "[encoded data removed]",
      "text/plain": [
       "<Figure size 432x288 with 1 Axes>"
      ]
     },
     "metadata": {
      "needs_background": "light"
     },
     "output_type": "display_data"
    },
    {
     "data": {
      "text/html": [
       "<div>\n",
       "<style scoped>\n",
       "    .dataframe tbody tr th:only-of-type {\n",
       "        vertical-align: middle;\n",
       "    }\n",
       "\n",
       "    .dataframe tbody tr th {\n",
       "        vertical-align: top;\n",
       "    }\n",
       "\n",
       "    .dataframe thead th {\n",
       "        text-align: right;\n",
       "    }\n",
       "</style>\n",
       "<table border=\"1\" class=\"dataframe\">\n",
       "  <thead>\n",
       "    <tr style=\"text-align: right;\">\n",
       "      <th></th>\n",
       "      <th>mean_fit_time</th>\n",
       "      <th>std_fit_time</th>\n",
       "      <th>mean_score_time</th>\n",
       "      <th>std_score_time</th>\n",
       "      <th>param_alpha</th>\n",
       "      <th>params</th>\n",
       "      <th>split0_test_score</th>\n",
       "      <th>split1_test_score</th>\n",
       "      <th>split2_test_score</th>\n",
       "      <th>split3_test_score</th>\n",
       "      <th>...</th>\n",
       "      <th>split2_train_score</th>\n",
       "      <th>split3_train_score</th>\n",
       "      <th>split4_train_score</th>\n",
       "      <th>split5_train_score</th>\n",
       "      <th>split6_train_score</th>\n",
       "      <th>split7_train_score</th>\n",
       "      <th>split8_train_score</th>\n",
       "      <th>split9_train_score</th>\n",
       "      <th>mean_train_score</th>\n",
       "      <th>std_train_score</th>\n",
       "    </tr>\n",
       "  </thead>\n",
       "  <tbody>\n",
       "    <tr>\n",
       "      <th>0</th>\n",
       "      <td>0.054457</td>\n",
       "      <td>0.003009</td>\n",
       "      <td>0.006066</td>\n",
       "      <td>0.001030</td>\n",
       "      <td>1</td>\n",
       "      <td>{'alpha': 1.0}</td>\n",
       "      <td>0.601320</td>\n",
       "      <td>0.617418</td>\n",
       "      <td>0.633280</td>\n",
       "      <td>0.625531</td>\n",
       "      <td>...</td>\n",
       "      <td>0.754919</td>\n",
       "      <td>0.754150</td>\n",
       "      <td>0.759655</td>\n",
       "      <td>0.756160</td>\n",
       "      <td>0.754858</td>\n",
       "      <td>0.755781</td>\n",
       "      <td>0.756834</td>\n",
       "      <td>0.757885</td>\n",
       "      <td>0.756347</td>\n",
       "      <td>0.001639</td>\n",
       "    </tr>\n",
       "    <tr>\n",
       "      <th>1</th>\n",
       "      <td>0.054934</td>\n",
       "      <td>0.004201</td>\n",
       "      <td>0.006193</td>\n",
       "      <td>0.000756</td>\n",
       "      <td>0.811131</td>\n",
       "      <td>{'alpha': 0.8111308307896871}</td>\n",
       "      <td>0.605790</td>\n",
       "      <td>0.624436</td>\n",
       "      <td>0.638946</td>\n",
       "      <td>0.631745</td>\n",
       "      <td>...</td>\n",
       "      <td>0.767585</td>\n",
       "      <td>0.766543</td>\n",
       "      <td>0.772117</td>\n",
       "      <td>0.768775</td>\n",
       "      <td>0.767232</td>\n",
       "      <td>0.768364</td>\n",
       "      <td>0.769320</td>\n",
       "      <td>0.770882</td>\n",
       "      <td>0.768910</td>\n",
       "      <td>0.001674</td>\n",
       "    </tr>\n",
       "    <tr>\n",
       "      <th>2</th>\n",
       "      <td>0.051608</td>\n",
       "      <td>0.001688</td>\n",
       "      <td>0.005697</td>\n",
       "      <td>0.000460</td>\n",
       "      <td>0.657933</td>\n",
       "      <td>{'alpha': 0.657933224657568}</td>\n",
       "      <td>0.608985</td>\n",
       "      <td>0.629973</td>\n",
       "      <td>0.643439</td>\n",
       "      <td>0.636627</td>\n",
       "      <td>...</td>\n",
       "      <td>0.778226</td>\n",
       "      <td>0.776896</td>\n",
       "      <td>0.782474</td>\n",
       "      <td>0.779320</td>\n",
       "      <td>0.777590</td>\n",
       "      <td>0.778913</td>\n",
       "      <td>0.779773</td>\n",
       "      <td>0.781759</td>\n",
       "      <td>0.779424</td>\n",
       "      <td>0.001700</td>\n",
       "    </tr>\n",
       "    <tr>\n",
       "      <th>3</th>\n",
       "      <td>0.052406</td>\n",
       "      <td>0.002501</td>\n",
       "      <td>0.006200</td>\n",
       "      <td>0.001468</td>\n",
       "      <td>0.53367</td>\n",
       "      <td>{'alpha': 0.533669923120631}</td>\n",
       "      <td>0.611892</td>\n",
       "      <td>0.634257</td>\n",
       "      <td>0.647100</td>\n",
       "      <td>0.641096</td>\n",
       "      <td>...</td>\n",
       "      <td>0.786943</td>\n",
       "      <td>0.785391</td>\n",
       "      <td>0.790937</td>\n",
       "      <td>0.788016</td>\n",
       "      <td>0.786115</td>\n",
       "      <td>0.787574</td>\n",
       "      <td>0.788359</td>\n",
       "      <td>0.790654</td>\n",
       "      <td>0.788052</td>\n",
       "      <td>0.001721</td>\n",
       "    </tr>\n",
       "    <tr>\n",
       "      <th>4</th>\n",
       "      <td>0.051954</td>\n",
       "      <td>0.002183</td>\n",
       "      <td>0.005601</td>\n",
       "      <td>0.000662</td>\n",
       "      <td>0.432876</td>\n",
       "      <td>{'alpha': 0.43287612810830584}</td>\n",
       "      <td>0.613532</td>\n",
       "      <td>0.638121</td>\n",
       "      <td>0.649552</td>\n",
       "      <td>0.644418</td>\n",
       "      <td>...</td>\n",
       "      <td>0.794006</td>\n",
       "      <td>0.792266</td>\n",
       "      <td>0.797749</td>\n",
       "      <td>0.795075</td>\n",
       "      <td>0.793023</td>\n",
       "      <td>0.794596</td>\n",
       "      <td>0.795306</td>\n",
       "      <td>0.797839</td>\n",
       "      <td>0.795044</td>\n",
       "      <td>0.001732</td>\n",
       "    </tr>\n",
       "  </tbody>\n",
       "</table>\n",
       "<p>5 rows × 31 columns</p>\n",
       "</div>"
      ],
      "text/plain": [
       "   mean_fit_time  std_fit_time  mean_score_time  std_score_time param_alpha  \\\n",
       "0       0.054457      0.003009         0.006066        0.001030           1   \n",
       "1       0.054934      0.004201         0.006193        0.000756    0.811131   \n",
       "2       0.051608      0.001688         0.005697        0.000460    0.657933   \n",
       "3       0.052406      0.002501         0.006200        0.001468     0.53367   \n",
       "4       0.051954      0.002183         0.005601        0.000662    0.432876   \n",
       "\n",
       "                           params  split0_test_score  split1_test_score  \\\n",
       "0                  {'alpha': 1.0}           0.601320           0.617418   \n",
       "1   {'alpha': 0.8111308307896871}           0.605790           0.624436   \n",
       "2    {'alpha': 0.657933224657568}           0.608985           0.629973   \n",
       "3    {'alpha': 0.533669923120631}           0.611892           0.634257   \n",
       "4  {'alpha': 0.43287612810830584}           0.613532           0.638121   \n",
       "\n",
       "   split2_test_score  split3_test_score  ...  split2_train_score  \\\n",
       "0           0.633280           0.625531  ...            0.754919   \n",
       "1           0.638946           0.631745  ...            0.767585   \n",
       "2           0.643439           0.636627  ...            0.778226   \n",
       "3           0.647100           0.641096  ...            0.786943   \n",
       "4           0.649552           0.644418  ...            0.794006   \n",
       "\n",
       "   split3_train_score  split4_train_score  split5_train_score  \\\n",
       "0            0.754150            0.759655            0.756160   \n",
       "1            0.766543            0.772117            0.768775   \n",
       "2            0.776896            0.782474            0.779320   \n",
       "3            0.785391            0.790937            0.788016   \n",
       "4            0.792266            0.797749            0.795075   \n",
       "\n",
       "   split6_train_score  split7_train_score  split8_train_score  \\\n",
       "0            0.754858            0.755781            0.756834   \n",
       "1            0.767232            0.768364            0.769320   \n",
       "2            0.777590            0.778913            0.779773   \n",
       "3            0.786115            0.787574            0.788359   \n",
       "4            0.793023            0.794596            0.795306   \n",
       "\n",
       "   split9_train_score  mean_train_score  std_train_score  \n",
       "0            0.757885          0.756347         0.001639  \n",
       "1            0.770882          0.768910         0.001674  \n",
       "2            0.781759          0.779424         0.001700  \n",
       "3            0.790654          0.788052         0.001721  \n",
       "4            0.797839          0.795044         0.001732  \n",
       "\n",
       "[5 rows x 31 columns]"
      ]
     },
     "execution_count": 25,
     "metadata": {},
     "output_type": "execute_result"
    }
   ],
   "source": [
    "# GridSearchCV on set2\n",
    "\n",
    "# https://www.featureranking.com/tutorials/machine-learning-tutorials/sk-part-3-cross-validation-and-hyperparameter-tuning/\n",
    "\n",
    "from sklearn.model_selection import GridSearchCV\n",
    "from scipy.stats import randint as sp_randint\n",
    "from sklearn.model_selection import RandomizedSearchCV\n",
    "\n",
    "nb = MultinomialNB()\n",
    "\n",
    "# alphas = [0.00001, 0.0001, 0.001 ,0.01, 0.1, 0.25, 0.5, 0.8, 1]\n",
    "# p_grid_NB = {'alpha': alphas}\n",
    "p_grid_NB = {'alpha': np.logspace(0,-9, num=100)}\n",
    "\n",
    "gridSearchCv_2 = GridSearchCV(estimator=nb, param_grid=p_grid_NB, cv=10, scoring='roc_auc', return_train_score=True)\n",
    "gridSearchCv_2.fit(x_tr_set_2, y_train)\n",
    "\n",
    "results = pd.DataFrame.from_dict(gridSearchCv_2.cv_results_)\n",
    "\n",
    "train_auc = results['mean_train_score']\n",
    "train_auc_std = results['std_train_score']\n",
    "cv_auc = results['mean_test_score']\n",
    "cv_auc_std = results['std_test_score']\n",
    "\n",
    "plt.plot(p_grid_NB[\"alpha\"], train_auc, label='Train AUC')\n",
    "# this code is copied from here: https://stackoverflow.com/a/48803361/4084039\n",
    "# plt.gca().fill_between(K, train_auc - train_auc_std,train_auc + train_auc_std,alpha=0.2,color='darkblue')\n",
    "\n",
    "plt.plot(p_grid_NB[\"alpha\"], cv_auc, label='CV AUC')\n",
    "# this code is copied from here: https://stackoverflow.com/a/48803361/4084039\n",
    "# plt.gca().fill_between(K, cv_auc - cv_auc_std,cv_auc + cv_auc_std,alpha=0.2,color='darkorange')\n",
    "\n",
    "plt.scatter(p_grid_NB[\"alpha\"], train_auc, label='Train AUC points')\n",
    "plt.scatter(p_grid_NB[\"alpha\"], cv_auc, label='CV AUC points')\n",
    "\n",
    "plt.legend()\n",
    "plt.xlabel(\"alphas: hyperparameter\")\n",
    "plt.ylabel(\"AUC\")\n",
    "plt.title(\"Hyper parameter Vs AUC plot on set 2\")\n",
    "plt.grid()\n",
    "plt.show()\n",
    "\n",
    "results.head()\n"
   ]
  },
  {
   "cell_type": "markdown",
   "metadata": {},
   "source": [
    "# Testing alpha value on test data (set_1 BOW representation)"
   ]
  },
  {
   "cell_type": "code",
   "execution_count": 32,
   "metadata": {},
   "outputs": [
    {
     "name": "stdout",
     "output_type": "stream",
     "text": [
      "Best Param set 1 : {'alpha': 0.23101297000831597}\n",
      "0.6922212472150477\n"
     ]
    },
    {
     "data": {
      "image/png": "[encoded data removed]",
      "text/plain": [
       "<Figure size 432x288 with 1 Axes>"
      ]
     },
     "metadata": {
      "needs_background": "light"
     },
     "output_type": "display_data"
    }
   ],
   "source": [
    "# For set_1 data - Naive bayes on test data\n",
    "\n",
    "from sklearn.metrics import roc_auc_score, auc\n",
    "\n",
    "best_alpha_set1 = gridSearchCv_1.best_params_[\"alpha\"]\n",
    "\n",
    "print(\"Best Param set 1 : {}\".format(gridSearchCv_1.best_params_))\n",
    "\n",
    "nb = MultinomialNB(alpha=best_alpha_set1)\n",
    "nb.fit(x_tr_set_1, y_train)\n",
    "\n",
    "y_train_pred_1 = batch_predict(nb, x_tr_set_1)\n",
    "y_test_pred_1 = batch_predict(nb, x_te_set_1)\n",
    "\n",
    "\n",
    "train_fpr_1, train_tpr_1, tr_thresholds_1 = roc_curve(y_train, y_train_pred_1)\n",
    "test_fpr_1, test_tpr_1, te_thresholds_1 = roc_curve(y_test, y_test_pred_1)\n",
    "\n",
    "auc_score_1 = auc(test_fpr_1, test_tpr_1)\n",
    "\n",
    "print(auc_score_1)\n",
    "\n",
    "plt.plot(train_fpr_1, train_tpr_1, label=\"train AUC =\" + str(auc(train_fpr_1, train_tpr_1)))\n",
    "plt.plot(test_fpr_1, test_tpr_1, label=\"test AUC =\" + str(auc(test_fpr_1, test_tpr_1)))\n",
    "plt.legend()\n",
    "plt.xlabel(\"Alpha: hyperparameter\")\n",
    "plt.ylabel(\"AUC\")\n",
    "plt.title(\"ERROR PLOTS for set 1\")\n",
    "plt.grid()\n",
    "plt.show()"
   ]
  },
  {
   "cell_type": "markdown",
   "metadata": {},
   "source": [
    "# Testing alpha value on test data (set_2 TF_IDFrepresentation)"
   ]
  },
  {
   "cell_type": "code",
   "execution_count": 33,
   "metadata": {},
   "outputs": [
    {
     "name": "stdout",
     "output_type": "stream",
     "text": [
      "Best param SET 2 : {'alpha': 0.1873817422860384}\n",
      "0.6377664106653742\n"
     ]
    },
    {
     "data": {
      "image/png": "[encoded data removed]",
      "text/plain": [
       "<Figure size 432x288 with 1 Axes>"
      ]
     },
     "metadata": {
      "needs_background": "light"
     },
     "output_type": "display_data"
    }
   ],
   "source": [
    "# For set_2 data - Naive bayes on test data\n",
    "\n",
    "from sklearn.metrics import roc_auc_score, auc\n",
    "\n",
    "\n",
    "print(\"Best param SET 2 : {}\".format(gridSearchCv_2.best_params_))\n",
    "best_alpha_set2 = gridSearchCv_2.best_params_[\"alpha\"]\n",
    "\n",
    "nb = MultinomialNB(alpha=best_alpha_set1)\n",
    "nb.fit(x_tr_set_2, y_train)\n",
    "\n",
    "\n",
    "y_train_pred_2 = batch_predict(nb, x_tr_set_2)\n",
    "y_test_pred_2 = batch_predict(nb, x_te_set_2)\n",
    "\n",
    "train_fpr_2, train_tpr_2, tr_thresholds_2 = roc_curve(y_train, y_train_pred_2)\n",
    "test_fpr_2, test_tpr_2, te_thresholds_2 = roc_curve(y_test, y_test_pred_2)\n",
    "\n",
    "auc_score_2 = auc(test_fpr_2, test_tpr_2)\n",
    "print(auc_score_2)\n",
    "\n",
    "plt.plot(train_fpr_2, train_tpr_2, label=\"train AUC =\" + str(auc(train_fpr_2, train_tpr_2)))\n",
    "plt.plot(test_fpr_2, test_tpr_2, label=\"test AUC =\" + str(auc(test_fpr_2, test_tpr_2)))\n",
    "plt.legend()\n",
    "plt.xlabel(\"Alpha: hyperparameter\")\n",
    "plt.ylabel(\"AUC\")\n",
    "plt.title(\"ERROR PLOTS on set 2\")\n",
    "plt.grid()\n",
    "plt.show()\n"
   ]
  },
  {
   "cell_type": "markdown",
   "metadata": {},
   "source": [
    "# Confusion matrix set_1"
   ]
  },
  {
   "cell_type": "code",
   "execution_count": 28,
   "metadata": {},
   "outputs": [
    {
     "name": "stdout",
     "output_type": "stream",
     "text": [
      "the maximum value of tpr*(1-fpr) 0.5353876995384836 for threshold 0.86\n",
      "Train confusion matrix\n",
      "[[ 2713   882]\n",
      " [ 5477 13373]]\n",
      "Test confusion matrix\n",
      "[[1564 1078]\n",
      " [4305 9553]]\n"
     ]
    }
   ],
   "source": [
    "# Confusion matrix for set_1\n",
    "\n",
    "# we are writing our own function for predict, with defined thresould\n",
    "# we will pick a threshold that will give the least fpr\n",
    "def find_best_threshold(threshould, fpr, tpr):\n",
    "\n",
    "    t = threshould[np.argmax(tpr * (1 - fpr))]\n",
    "    # (tpr*(1-fpr)) will be maximum if your fpr is very low and tpr is very high\n",
    "    print(\"the maximum value of tpr*(1-fpr)\", max(tpr * (1 - fpr)), \"for threshold\", np.round(t, 3))\n",
    "    return t\n",
    "\n",
    "\n",
    "def predict_with_best_t(proba, threshould):\n",
    "    predictions = []\n",
    "    for i in proba:\n",
    "        if i >= threshould:\n",
    "            predictions.append(1)\n",
    "        else:\n",
    "            predictions.append(0)\n",
    "    return predictions\n",
    "\n",
    "\n",
    "from sklearn.metrics import confusion_matrix\n",
    "\n",
    "best_t = find_best_threshold(tr_thresholds_1, train_fpr_1, train_tpr_1)\n",
    "\n",
    "print(\"Train confusion matrix\")\n",
    "print(confusion_matrix(y_train, predict_with_best_t(y_train_pred_1, best_t)))\n",
    "print(\"Test confusion matrix\")\n",
    "print(confusion_matrix(y_test, predict_with_best_t(y_test_pred_1, best_t)))\n"
   ]
  },
  {
   "cell_type": "markdown",
   "metadata": {},
   "source": [
    "# Confusion matrix set_2"
   ]
  },
  {
   "cell_type": "code",
   "execution_count": 29,
   "metadata": {},
   "outputs": [
    {
     "name": "stdout",
     "output_type": "stream",
     "text": [
      "the maximum value of tpr*(1-fpr) 0.5260657485529194 for threshold 0.84\n",
      "Train confusion matrix\n",
      "[[ 2629   966]\n",
      " [ 5290 13560]]\n",
      "Test confusion matrix\n",
      "[[1330 1312]\n",
      " [4388 9470]]\n"
     ]
    }
   ],
   "source": [
    "# Confusion matrix for  set_2\n",
    "\n",
    "# we are writing our own function for predict, with defined thresould\n",
    "# we will pick a threshold that will give the least fpr\n",
    "def find_best_threshold(threshould, fpr, tpr):\n",
    "\n",
    "    t = threshould[np.argmax(tpr * (1 - fpr))]\n",
    "    # (tpr*(1-fpr)) will be maximum if your fpr is very low and tpr is very high\n",
    "    print(\"the maximum value of tpr*(1-fpr)\", max(tpr * (1 - fpr)), \"for threshold\", np.round(t, 3))\n",
    "    return t\n",
    "\n",
    "\n",
    "def predict_with_best_t(proba, threshould):\n",
    "    predictions = []\n",
    "    for i in proba:\n",
    "        if i >= threshould:\n",
    "            predictions.append(1)\n",
    "        else:\n",
    "            predictions.append(0)\n",
    "    return predictions\n",
    "\n",
    "\n",
    "from sklearn.metrics import confusion_matrix\n",
    "\n",
    "best_t = find_best_threshold(tr_thresholds_2, train_fpr_2, train_tpr_2)\n",
    "\n",
    "print(\"Train confusion matrix\")\n",
    "print(confusion_matrix(y_train, predict_with_best_t(y_train_pred_2, best_t)))\n",
    "print(\"Test confusion matrix\")\n",
    "print(confusion_matrix(y_test, predict_with_best_t(y_test_pred_2, best_t)))\n"
   ]
  },
  {
   "cell_type": "markdown",
   "metadata": {},
   "source": [
    "# Get top features of set_1"
   ]
  },
  {
   "cell_type": "code",
   "execution_count": 30,
   "metadata": {},
   "outputs": [
    {
     "name": "stdout",
     "output_type": "stream",
     "text": [
      "['studied' 'schoolers' 'myriad' 'classrooms' 'learns' 'theater' 'notch'\n",
      " 'thier' 'learned' 'helped' 'appliedsciences' 'map' 'narrative' 'readings'\n",
      " 'workbooks' 'weaknesses' 'needed' 'used' 'days' 'about']\n"
     ]
    }
   ],
   "source": [
    "# Get top features of set_1\n",
    "\n",
    "\n",
    "nb_bow = MultinomialNB(alpha=best_alpha_set1, class_prior=[0.5, 0.5], fit_prior=True)\n",
    "nb_bow.fit(x_tr_set_1, y_train)\n",
    "\n",
    "\n",
    "feature_names_set_1 = []\n",
    "\n",
    "for word in countVectorizer_clean_subcategories.get_feature_names():\n",
    "    feature_names_set_1.append(word)\n",
    "\n",
    "for word in countVectorizer_clean_categories.get_feature_names():\n",
    "    feature_names_set_1.append(word)\n",
    "\n",
    "for word in countVectorizer_project_grade_category.get_feature_names():\n",
    "    feature_names_set_1.append(word)\n",
    "\n",
    "for word in countVectorizer_essay.get_feature_names():\n",
    "    feature_names_set_1.append(word)\n",
    "\n",
    "for word in countVectorizer_teacher_prefix.get_feature_names():\n",
    "        feature_names_set_1.append(word)\n",
    "\n",
    "for word in countVectorizer_project_title.get_feature_names():\n",
    "    feature_names_set_1.append(word)\n",
    "\n",
    "\n",
    "# https://www.geeksforgeeks.org/python-reverse-a-numpy-array/\n",
    "pos_class_prob_sorted = nb_bow.feature_log_prob_[1].argsort()[::-1]\n",
    "\n",
    "# https://stackoverflow.com/questions/50526898/how-to-get-feature-importance-in-naive-bayes\n",
    "print(np.take(feature_names_set_1, pos_class_prob_sorted[:20]))\n"
   ]
  },
  {
   "cell_type": "markdown",
   "metadata": {},
   "source": [
    "# Representing result of vectorizer, model, Hyper parameter, AUC"
   ]
  },
  {
   "cell_type": "code",
   "execution_count": 31,
   "metadata": {},
   "outputs": [
    {
     "name": "stdout",
     "output_type": "stream",
     "text": [
      "+------------+-------+---------------------+--------+\n",
      "| vectorizer | model |   Hyper parameter   |  AUC   |\n",
      "+------------+-------+---------------------+--------+\n",
      "|    BOW     |   NB  | 0.23101297000831597 | 0.6922 |\n",
      "|   TF_IDF   |   NB  |  0.1873817422860384 | 0.6378 |\n",
      "+------------+-------+---------------------+--------+\n"
     ]
    }
   ],
   "source": [
    "# Representing result of vectorizer, model, Hyper parameter, AUC\n",
    "\n",
    "# https://stackoverflow.com/questions/36423259/how-to-use-pretty-table-in-python-to-print-out-data-from-multiple-lists\n",
    "\n",
    "import prettytable\n",
    "\n",
    "x = prettytable.PrettyTable([\"vectorizer\", \"model\", \"Hyper parameter\", \"AUC\"])\n",
    "x.add_row([\"BOW\",\"NB\",best_alpha_set1,round(auc_score_1, 4)])\n",
    "x.add_row([\"TF_IDF\", \"NB\", best_alpha_set2, round(auc_score_2,4)])\n",
    "\n",
    "print(x)"
   ]
  },
  {
   "cell_type": "code",
   "execution_count": null,
   "metadata": {},
   "outputs": [],
   "source": []
  },
  {
   "cell_type": "code",
   "execution_count": null,
   "metadata": {},
   "outputs": [],
   "source": []
  },
  {
   "cell_type": "code",
   "execution_count": null,
   "metadata": {},
   "outputs": [],
   "source": []
  }
 ],
 "metadata": {
  "kernelspec": {
   "display_name": "Python 3",
   "language": "python",
   "name": "python3"
  },
  "language_info": {
   "codemirror_mode": {
    "name": "ipython",
    "version": 3
   },
   "file_extension": ".py",
   "mimetype": "text/x-python",
   "name": "python",
   "nbconvert_exporter": "python",
   "pygments_lexer": "ipython3",
   "version": "3.8.5"
  },
  "pycharm": {
   "stem_cell": {
    "cell_type": "raw",
    "metadata": {
     "collapsed": false
    },
    "source": []
   }
  }
 },
 "nbformat": 4,
 "nbformat_minor": 4
}
