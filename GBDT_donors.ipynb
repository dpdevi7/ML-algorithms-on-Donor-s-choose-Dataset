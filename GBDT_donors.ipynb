{
 "cells": [
  {
   "cell_type": "code",
   "execution_count": 38,
   "metadata": {
    "pycharm": {
     "is_executing": false
    }
   },
   "outputs": [],
   "source": [
    "import pandas as pd\n",
    "import numpy as np\n",
    "from sklearn.model_selection import train_test_split\n",
    "import pandas as pd\n",
    "from sklearn.feature_extraction.text import TfidfTransformer\n",
    "from sklearn.feature_extraction.text import TfidfVectorizer\n",
    "import matplotlib.pyplot as plt\n",
    "import seaborn as sns\n",
    "import numpy as np\n",
    "from sklearn.feature_extraction.text import CountVectorizer\n",
    "from sklearn.metrics import confusion_matrix\n",
    "from sklearn.metrics import roc_curve, auc\n",
    "import plotly\n",
    "import pickle\n",
    "from sklearn.model_selection import train_test_split\n",
    "from sklearn.preprocessing import Normalizer\n",
    "from scipy.sparse import hstack, coo_matrix\n",
    "from scipy import sparse\n",
    "import gensim \n",
    "from gensim.models import Word2Vec \n",
    "from sklearn.model_selection import GridSearchCV, cross_val_score\n",
    "from sklearn.metrics import roc_auc_score\n",
    "from xgboost import XGBClassifier\n",
    "from sklearn.ensemble import GradientBoostingClassifier"
   ]
  },
  {
   "cell_type": "code",
   "execution_count": 39,
   "metadata": {
    "pycharm": {
     "is_executing": false,
     "name": "#%%\n"
    }
   },
   "outputs": [],
   "source": [
    "df = pd.read_csv(\"preprocessed_data.csv\", nrows=55000)"
   ]
  },
  {
   "cell_type": "code",
   "execution_count": 40,
   "metadata": {},
   "outputs": [],
   "source": [
    "with open('glove_vectors', 'rb') as f:\n",
    "    model = pickle.load(f)\n",
    "    glove_words =  set(model.keys())"
   ]
  },
  {
   "cell_type": "code",
   "execution_count": 41,
   "metadata": {},
   "outputs": [
    {
     "data": {
      "text/plain": [
       "(55000, 10)"
      ]
     },
     "execution_count": 41,
     "metadata": {},
     "output_type": "execute_result"
    }
   ],
   "source": [
    "df.shape"
   ]
  },
  {
   "cell_type": "code",
   "execution_count": 42,
   "metadata": {
    "pycharm": {
     "is_executing": false
    }
   },
   "outputs": [
    {
     "data": {
      "text/plain": [
       "(54973, 10)"
      ]
     },
     "execution_count": 42,
     "metadata": {},
     "output_type": "execute_result"
    }
   ],
   "source": [
    "df = df.dropna()\n",
    "df.shape"
   ]
  },
  {
   "cell_type": "code",
   "execution_count": 43,
   "metadata": {
    "pycharm": {
     "is_executing": false
    }
   },
   "outputs": [
    {
     "data": {
      "text/plain": [
       "10"
      ]
     },
     "execution_count": 43,
     "metadata": {},
     "output_type": "execute_result"
    }
   ],
   "source": [
    "len(df.columns)"
   ]
  },
  {
   "cell_type": "code",
   "execution_count": 44,
   "metadata": {
    "pycharm": {
     "is_executing": false
    }
   },
   "outputs": [
    {
     "data": {
      "text/plain": [
       "array([['school_state'],\n",
       "       ['teacher_prefix'],\n",
       "       ['project_grade_category'],\n",
       "       ['teacher_number_of_previously_posted_projects'],\n",
       "       ['project_is_approved'],\n",
       "       ['clean_categories'],\n",
       "       ['clean_subcategories'],\n",
       "       ['essay'],\n",
       "       ['price'],\n",
       "       ['project_title']], dtype=object)"
      ]
     },
     "execution_count": 44,
     "metadata": {},
     "output_type": "execute_result"
    }
   ],
   "source": [
    "df.columns.values.reshape(-1, 1)"
   ]
  },
  {
   "cell_type": "code",
   "execution_count": 45,
   "metadata": {
    "pycharm": {
     "is_executing": false
    }
   },
   "outputs": [],
   "source": [
    "Y = df['project_is_approved']\n",
    "X = df.drop(['project_is_approved'], axis=1)"
   ]
  },
  {
   "cell_type": "code",
   "execution_count": 46,
   "metadata": {
    "pycharm": {
     "is_executing": false,
     "name": "#%%\n"
    }
   },
   "outputs": [],
   "source": [
    "\n",
    "x_train, x_test, y_train, y_test = train_test_split(X, Y, test_size=0.33, stratify=Y)\n"
   ]
  },
  {
   "cell_type": "markdown",
   "metadata": {},
   "source": [
    "# Vectorizing PRICE"
   ]
  },
  {
   "cell_type": "code",
   "execution_count": 47,
   "metadata": {},
   "outputs": [
    {
     "data": {
      "text/plain": [
       "(36831, 1)"
      ]
     },
     "execution_count": 47,
     "metadata": {},
     "output_type": "execute_result"
    }
   ],
   "source": [
    "\n",
    "normalizer_price = Normalizer()\n",
    "normalizer_price.fit(x_train['price'].values.reshape(-1, 1))\n",
    "\n",
    "x_train_price_norm = normalizer_price.transform(x_train['price'].values.reshape(-1, 1))\n",
    "x_test_price_norm = normalizer_price.transform(x_test['price'].values.reshape(-1,1))\n",
    "\n",
    "x_train_price_norm.shape"
   ]
  },
  {
   "cell_type": "markdown",
   "metadata": {},
   "source": [
    "# Vectorizing Teacher number of previously posted projects"
   ]
  },
  {
   "cell_type": "code",
   "execution_count": 48,
   "metadata": {},
   "outputs": [
    {
     "data": {
      "text/plain": [
       "(36831, 1)"
      ]
     },
     "execution_count": 48,
     "metadata": {},
     "output_type": "execute_result"
    }
   ],
   "source": [
    "normalizer_teacher_number_of_previously_posted_projects = Normalizer()\n",
    "\n",
    "normalizer_teacher_number_of_previously_posted_projects.fit(x_train['teacher_number_of_previously_posted_projects'].values.reshape(-1, 1))\n",
    "\n",
    "x_train_pre_posted_norm = normalizer_teacher_number_of_previously_posted_projects.transform(x_train['teacher_number_of_previously_posted_projects'].values.reshape(-1, 1))\n",
    "# x_cv_pre_posted_norm = normalizer_teacher_number_of_previously_posted_projects.transform(x_cv['teacher_number_of_previously_posted_projects'].values.reshape(-1, 1))\n",
    "x_test_pre_posted_norm = normalizer_teacher_number_of_previously_posted_projects.transform(x_test['teacher_number_of_previously_posted_projects'].values.reshape(-1, 1))\n",
    "\n",
    "x_train_pre_posted_norm.shape"
   ]
  },
  {
   "cell_type": "markdown",
   "metadata": {},
   "source": [
    "# Essay TFIDF"
   ]
  },
  {
   "cell_type": "code",
   "execution_count": 49,
   "metadata": {},
   "outputs": [
    {
     "data": {
      "text/plain": [
       "((36831, 10748), (18142, 10748))"
      ]
     },
     "execution_count": 49,
     "metadata": {},
     "output_type": "execute_result"
    }
   ],
   "source": [
    "tfidfVectorizer_essay = TfidfVectorizer(min_df=10)\n",
    "tfidfVectorizer_essay.fit(x_train['essay'])\n",
    "                          \n",
    "            \n",
    "\n",
    "x_train_essay_tfidf = tfidfVectorizer_essay.transform(x_train['essay'])\n",
    "x_test_essay_tfidf = tfidfVectorizer_essay.transform(x_test['essay'])\n",
    "\n",
    "tfidf_dictionary = dict(zip(tfidfVectorizer_essay.get_feature_names(), list(tfidfVectorizer_essay.idf_)))\n",
    "tfidf_words = set(tfidfVectorizer_essay.get_feature_names())\n",
    "\n",
    "x_train_essay_tfidf.shape, x_test_essay_tfidf.shape"
   ]
  },
  {
   "cell_type": "markdown",
   "metadata": {},
   "source": [
    "# Essay TFIDF_W2V"
   ]
  },
  {
   "cell_type": "code",
   "execution_count": 50,
   "metadata": {},
   "outputs": [],
   "source": [
    "x_train_essay_w2v_tfidf = []\n",
    "x_test_essay_w2v_tfidf = []\n",
    "\n",
    "\n",
    "# x_train essay w2v_tfidf\n",
    "for sentence in x_train['essay']:\n",
    "    vector = np.zeros(300)\n",
    "    tfidf_sum = 0\n",
    "\n",
    "    for word in sentence.split():\n",
    "        if (word in glove_words) and (word in tfidf_words):\n",
    "            w2v = model[word]\n",
    "            tfidf = tfidf_dictionary[word] * ((sentence.count(word)) / (len(sentence.split())))\n",
    "            vector = vector + np.multiply(w2v, tfidf)\n",
    "\n",
    "    x_train_essay_w2v_tfidf.append(vector)\n",
    "\n",
    "\n",
    "\n",
    "# x_test essay w2v_tfidf\n",
    "for sentence in x_test['essay']:\n",
    "    vector = np.zeros(300)\n",
    "    tfidf_sum = 0\n",
    "\n",
    "    for word in sentence.split():\n",
    "        if (word in glove_words) and (word in tfidf_words):\n",
    "            w2v = model[word]\n",
    "            tfidf = tfidf_dictionary[word] * ((sentence.count(word)) / (len(sentence.split())))\n",
    "            vector = vector + np.multiply(tfidf, w2v)\n",
    "  \n",
    "    x_test_essay_w2v_tfidf.append(vector)"
   ]
  },
  {
   "cell_type": "markdown",
   "metadata": {},
   "source": [
    "# Project Title TFIDF"
   ]
  },
  {
   "cell_type": "code",
   "execution_count": 51,
   "metadata": {},
   "outputs": [],
   "source": [
    "tfidfVectorizer_title = TfidfVectorizer(min_df=10)\n",
    "tfidfVectorizer_title.fit(x_train['project_title'].values.astype('U'))\n",
    "                          \n",
    "            \n",
    "\n",
    "x_train_project_title_tfidf = tfidfVectorizer_title.transform(x_train['project_title'].values.astype('U'))\n",
    "x_test_project_title_tfidf = tfidfVectorizer_title.transform(x_test['project_title'].values.astype('U'))\n",
    "\n",
    "tfidf_dictionary = dict(zip(tfidfVectorizer_title.get_feature_names(), list(tfidfVectorizer_title.idf_)))\n",
    "tfidf_words = set(tfidfVectorizer_title.get_feature_names())"
   ]
  },
  {
   "cell_type": "markdown",
   "metadata": {},
   "source": [
    "# Project title TFIDF_W2V"
   ]
  },
  {
   "cell_type": "code",
   "execution_count": 52,
   "metadata": {},
   "outputs": [],
   "source": [
    "x_train_project_title_w2v_tfidf = []\n",
    "x_test_project_title_w2v_tfidf = []\n",
    "\n",
    "\n",
    "# x_train essay w2v_tfidf\n",
    "for sentence in x_train['project_title'].values.astype('U'):\n",
    "\n",
    "    vector = np.zeros(300)\n",
    "    tfidf_sum = 0\n",
    "\n",
    "    for word in sentence.split():\n",
    "        if (word in glove_words) and (word in tfidf_words):\n",
    "            w2v = model[word]\n",
    "            tfidf = tfidf_dictionary[word] * ((sentence.count(word)) / (len(sentence.split())))\n",
    "\n",
    "            vector = vector + np.multiply(w2v, tfidf)\n",
    "  \n",
    "\n",
    "  \n",
    "    x_train_project_title_w2v_tfidf.append(vector)\n",
    "\n",
    "\n",
    "\n",
    "# x_test essay w2v_tfidf\n",
    "for sentence in x_test['essay'].values.astype('U'):\n",
    "    vector = np.zeros(300)\n",
    "    tfidf_sum = 0\n",
    "\n",
    "    for word in sentence.split():\n",
    "        if (word in glove_words) and (word in tfidf_words):\n",
    "            w2v = model[word]\n",
    "            tfidf = tfidf_dictionary[word] * ((sentence.count(word)) / (len(sentence.split())))\n",
    "            vector = vector + np.multiply(tfidf, w2v)\n",
    "  \n",
    "    x_test_project_title_w2v_tfidf.append(vector)\n"
   ]
  },
  {
   "cell_type": "markdown",
   "metadata": {},
   "source": [
    "# Response Code school_state"
   ]
  },
  {
   "cell_type": "code",
   "execution_count": 53,
   "metadata": {},
   "outputs": [],
   "source": [
    "dict_school_state = {}\n",
    "school_state_response_code = []\n",
    "\n",
    "# Creating dictionary for state and counts\n",
    "for school_state_cat_var, is_approved_var in zip(x_train['school_state'], y_train):\n",
    "    \n",
    "    if is_approved_var == 0:\n",
    "        if school_state_cat_var in dict_school_state:\n",
    "            dict_school_state[school_state_cat_var][0] += 1\n",
    "            \n",
    "        else: \n",
    "            dict_school_state[school_state_cat_var] = [1, 1]\n",
    "            \n",
    "    if is_approved_var == 1:\n",
    "        if school_state_cat_var in dict_school_state:\n",
    "            dict_school_state[school_state_cat_var][1] += 1\n",
    "            \n",
    "        else:\n",
    "            dict_school_state[school_state_cat_var] = [1, 1]\n",
    "    \n",
    "# Updating values for each state as probabilities\n",
    "for state in dict_school_state:\n",
    "    value = dict_school_state[state]\n",
    "    sample_space = value[0] + value[1]\n",
    "    value[0] = np.around(value[0] / sample_space, 5)\n",
    "    value[1] = np.around(value[1] / sample_space, 5)\n",
    "    \n",
    "    dict_school_state[state] = value\n",
    " "
   ]
  },
  {
   "cell_type": "code",
   "execution_count": 54,
   "metadata": {},
   "outputs": [],
   "source": [
    "x_train_school_state_response_code = []\n",
    "x_test_school_state_response_code = []\n",
    "\n",
    "\n",
    "for state in x_train[\"school_state\"]:\n",
    "    x_train_school_state_response_code.append(np.asarray(dict_school_state[state]))\n",
    "    \n",
    "        \n",
    "for state in x_test[\"school_state\"]:\n",
    "    \n",
    "    if state in dict_school_state:\n",
    "        x_test_school_state_response_code.append(np.asarray(dict_school_state[state]))\n",
    "    else:\n",
    "        x_test_school_state_response_code.append(np.asarray([0.5, 0.5]))\n",
    "    \n",
    "\n",
    "\n",
    "\n",
    "\n",
    "    "
   ]
  },
  {
   "cell_type": "markdown",
   "metadata": {},
   "source": [
    "# Response Code teacher_prefix"
   ]
  },
  {
   "cell_type": "code",
   "execution_count": 55,
   "metadata": {},
   "outputs": [],
   "source": [
    "dict_teacher_prefix = {}\n",
    "teacher_prefix_response_code = []\n",
    "\n",
    "# Creating dictionary for state and counts\n",
    "for teacher_prefix_cat_var, is_approved_var in zip(x_train['teacher_prefix'], y_train):\n",
    "    \n",
    "    if is_approved_var == 0:\n",
    "        if teacher_prefix_cat_var in dict_teacher_prefix:\n",
    "            dict_teacher_prefix[teacher_prefix_cat_var][0] += 1\n",
    "            \n",
    "        else: \n",
    "            dict_teacher_prefix[teacher_prefix_cat_var] = [1, 1]\n",
    "            \n",
    "    if is_approved_var == 1:\n",
    "        if teacher_prefix_cat_var in dict_teacher_prefix:\n",
    "            dict_teacher_prefix[teacher_prefix_cat_var][1] += 1\n",
    "            \n",
    "        else:\n",
    "            dict_teacher_prefix[teacher_prefix_cat_var] = [1, 1]\n",
    "    \n",
    "# Updating values for each state as probabilities\n",
    "for teacher_prefix_cat_var in dict_teacher_prefix:\n",
    "    value = dict_teacher_prefix[teacher_prefix_cat_var]\n",
    "    sample_space = value[0] + value[1]\n",
    "    value[0] = np.around(value[0] / sample_space, 5)\n",
    "    value[1] = np.around(value[1] / sample_space, 5)\n",
    "    \n",
    "    dict_teacher_prefix[teacher_prefix_cat_var] = value\n",
    " "
   ]
  },
  {
   "cell_type": "code",
   "execution_count": 56,
   "metadata": {},
   "outputs": [],
   "source": [
    "x_train_teacher_prefix_response_code = []\n",
    "x_test_teacher_prefix_response_code = []\n",
    "\n",
    "\n",
    "for teacher_prefix in x_train[\"teacher_prefix\"]:\n",
    "    x_train_teacher_prefix_response_code.append(np.asarray(dict_teacher_prefix[teacher_prefix]))\n",
    "        \n",
    "    \n",
    "for teacher_prefix in x_test[\"teacher_prefix\"]:\n",
    "    if teacher_prefix in dict_teacher_prefix:\n",
    "        x_test_teacher_prefix_response_code.append(np.asarray(dict_teacher_prefix[teacher_prefix]))\n",
    "    else:\n",
    "        x_test_teacher_prefix_response_code.append(np.asarray([0.5, 0.5]))\n",
    "    \n",
    "\n",
    "\n"
   ]
  },
  {
   "cell_type": "markdown",
   "metadata": {},
   "source": [
    "# Response Code project_grade_category"
   ]
  },
  {
   "cell_type": "code",
   "execution_count": 57,
   "metadata": {},
   "outputs": [],
   "source": [
    "dict_project_grade_category = {}\n",
    "project_grade_category_response_code = []\n",
    "\n",
    "# Creating dictionary for state and counts\n",
    "for project_grade_category_cat_var, is_approved_var in zip(x_train['project_grade_category'], y_train):\n",
    "    \n",
    "    if is_approved_var == 0:\n",
    "        if project_grade_category_cat_var in dict_project_grade_category:\n",
    "            dict_project_grade_category[project_grade_category_cat_var][0] += 1\n",
    "            \n",
    "        else: \n",
    "            dict_project_grade_category[project_grade_category_cat_var] = [1, 1]\n",
    "            \n",
    "    if is_approved_var == 1:\n",
    "        if project_grade_category_cat_var in dict_project_grade_category:\n",
    "            dict_project_grade_category[project_grade_category_cat_var][1] += 1\n",
    "            \n",
    "        else:\n",
    "            dict_project_grade_category[project_grade_category_cat_var] = [1, 1]\n",
    "    \n",
    "# Updating values for each state as probabilities\n",
    "for project_grade_category_cat_var in dict_project_grade_category:\n",
    "    value = dict_project_grade_category[project_grade_category_cat_var]\n",
    "    sample_space = value[0] + value[1]\n",
    "    value[0] = np.around(value[0] / sample_space, 5)\n",
    "    value[1] = np.around(value[1] / sample_space, 5)\n",
    "    \n",
    "    dict_project_grade_category[project_grade_category_cat_var] = value"
   ]
  },
  {
   "cell_type": "code",
   "execution_count": 58,
   "metadata": {},
   "outputs": [],
   "source": [
    "x_train_project_grade_category_response_code = []\n",
    "x_test_project_grade_category_response_code = []\n",
    "\n",
    "\n",
    "for project_grade_category in x_train[\"project_grade_category\"]:\n",
    "    x_train_project_grade_category_response_code.append(np.asarray(dict_project_grade_category[project_grade_category]))\n",
    "        \n",
    "    \n",
    "    \n",
    "for project_grade_category in x_test[\"project_grade_category\"]:\n",
    "    \n",
    "    if teacher_prefix in dict_teacher_prefix:\n",
    "        x_test_project_grade_category_response_code.append(np.asarray(dict_project_grade_category[project_grade_category]))\n",
    "    else:\n",
    "        x_test_project_grade_category_response_code.append(np.asarray([0.5, 0.5]))\n",
    "        \n"
   ]
  },
  {
   "cell_type": "markdown",
   "metadata": {},
   "source": [
    "# Response Code clean_categories"
   ]
  },
  {
   "cell_type": "code",
   "execution_count": 59,
   "metadata": {},
   "outputs": [],
   "source": [
    "dict_clean_categories = {}\n",
    "clean_categories_response_code = []\n",
    "\n",
    "# Creating dictionary for state and counts\n",
    "for clean_categories_cat_var, is_approved_var in zip(x_train['clean_categories'], y_train):\n",
    "    \n",
    "    if is_approved_var == 0:\n",
    "        if clean_categories_cat_var in dict_clean_categories:\n",
    "            dict_clean_categories[clean_categories_cat_var][0] += 1\n",
    "            \n",
    "        else: \n",
    "            dict_clean_categories[clean_categories_cat_var] = [1, 1]\n",
    "            \n",
    "    if is_approved_var == 1:\n",
    "        if clean_categories_cat_var in dict_clean_categories:\n",
    "            dict_clean_categories[clean_categories_cat_var][1] += 1\n",
    "            \n",
    "        else:\n",
    "            dict_clean_categories[clean_categories_cat_var] = [1, 1]\n",
    "    \n",
    "# Updating values for each state as probabilities\n",
    "for clean_categories_cat_var in dict_clean_categories:\n",
    "    value = dict_clean_categories[clean_categories_cat_var]\n",
    "    sample_space = value[0] + value[1]\n",
    "    value[0] = np.around(value[0] / sample_space, 5)\n",
    "    value[1] = np.around(value[1] / sample_space, 5)\n",
    "    \n",
    "    dict_clean_categories[clean_categories_cat_var] = value\n",
    " "
   ]
  },
  {
   "cell_type": "code",
   "execution_count": 60,
   "metadata": {},
   "outputs": [],
   "source": [
    "x_train_clean_categories_response_code = []\n",
    "x_test_clean_categories_response_code = []\n",
    "\n",
    "\n",
    "for clean_categories in x_train[\"clean_categories\"]:\n",
    "    x_train_clean_categories_response_code.append(np.asarray(dict_clean_categories[clean_categories]))\n",
    "    \n",
    "\n",
    "        \n",
    "        \n",
    "for clean_categories in x_test[\"clean_categories\"]:\n",
    "    \n",
    "    if clean_categories in dict_clean_categories:\n",
    "        x_test_clean_categories_response_code.append(np.asarray(dict_clean_categories[clean_categories]))\n",
    "        \n",
    "    else: x_test_clean_categories_response_code.append(np.asarray([0.5, 0.5]))\n",
    "    \n"
   ]
  },
  {
   "cell_type": "markdown",
   "metadata": {},
   "source": [
    "# Response Code clean_subcategories"
   ]
  },
  {
   "cell_type": "code",
   "execution_count": 61,
   "metadata": {},
   "outputs": [],
   "source": [
    "dict_clean_subcategories = {}\n",
    "clean_subcategories_response_code = []\n",
    "\n",
    "# Creating dictionary for state and counts\n",
    "for clean_subcategories_cat_var, is_approved_var in zip(x_train['clean_subcategories'], y_train):\n",
    "    \n",
    "    if is_approved_var == 0:\n",
    "        if clean_subcategories_cat_var in dict_clean_subcategories:\n",
    "            dict_clean_subcategories[clean_subcategories_cat_var][0] += 1\n",
    "            \n",
    "        else: \n",
    "            dict_clean_subcategories[clean_subcategories_cat_var] = [1, 1]\n",
    "            \n",
    "    if is_approved_var == 1:\n",
    "        if clean_subcategories_cat_var in dict_clean_subcategories:\n",
    "            dict_clean_subcategories[clean_subcategories_cat_var][1] += 1\n",
    "            \n",
    "        else:\n",
    "            dict_clean_subcategories[clean_subcategories_cat_var] = [1, 1]\n",
    "    \n",
    "# Updating values for each state as probabilities\n",
    "for clean_subcategories_cat_var in dict_clean_subcategories:\n",
    "    value = dict_clean_subcategories[clean_subcategories_cat_var]\n",
    "    sample_space = value[0] + value[1]\n",
    "    value[0] = np.around(value[0] / sample_space, 5)\n",
    "    value[1] = np.around(value[1] / sample_space, 5)\n",
    "    \n",
    "    dict_clean_subcategories[clean_subcategories_cat_var] = value\n",
    " "
   ]
  },
  {
   "cell_type": "code",
   "execution_count": 62,
   "metadata": {},
   "outputs": [],
   "source": [
    "x_train_clean_subcategories_response_code = []\n",
    "x_test_clean_subcategories_response_code = []\n",
    "\n",
    "\n",
    "for clean_subcategories in x_train[\"clean_subcategories\"]:\n",
    "    x_train_clean_subcategories_response_code.append(np.asarray(dict_clean_subcategories[clean_subcategories]))\n",
    "        \n",
    "        \n",
    "for clean_subcategories in x_test[\"clean_subcategories\"]:\n",
    "    \n",
    "    if clean_subcategories in dict_clean_subcategories:\n",
    "        x_test_clean_subcategories_response_code.append(np.asarray(dict_clean_subcategories[clean_subcategories]))\n",
    "        \n",
    "    else: x_test_clean_subcategories_response_code.append(np.asarray([0.5, 0.5]))\n",
    "    \n",
    "    "
   ]
  },
  {
   "cell_type": "markdown",
   "metadata": {},
   "source": [
    "# Sentiment Scoring"
   ]
  },
  {
   "cell_type": "code",
   "execution_count": 63,
   "metadata": {},
   "outputs": [
    {
     "name": "stderr",
     "output_type": "stream",
     "text": [
      "[nltk_data] Downloading package vader_lexicon to\n",
      "[nltk_data]     C:\\Users\\K9\\AppData\\Roaming\\nltk_data...\n",
      "[nltk_data]   Package vader_lexicon is already up-to-date!\n"
     ]
    }
   ],
   "source": [
    "import nltk\n",
    "from nltk.sentiment.vader import SentimentIntensityAnalyzer\n",
    "nltk.download('vader_lexicon')\n",
    "\n",
    "\n",
    "sid = SentimentIntensityAnalyzer()\n",
    "\n",
    "x_train_sentiment_scores = np.empty((x_train.shape[0], 4))\n",
    "x_test_sentiment_scores = np.empty((x_test.shape[0], 4))\n",
    "\n",
    "for i, sentence in enumerate(x_train['essay']):\n",
    "    temp_ss = sid.polarity_scores(sentence)\n",
    "    x_train_sentiment_scores[i][0] = temp_ss['neg']\n",
    "    x_train_sentiment_scores[i][1] = temp_ss['neu']\n",
    "    x_train_sentiment_scores[i][2] = temp_ss['pos']\n",
    "    x_train_sentiment_scores[i][3] = temp_ss['compound']\n",
    "\n",
    "\n",
    "for i, sentence in enumerate(x_test['essay']):\n",
    "    temp_ss = sid.polarity_scores(sentence)\n",
    "    x_test_sentiment_scores[i][0] = temp_ss['neg']\n",
    "    x_test_sentiment_scores[i][1] = temp_ss['neu']\n",
    "    x_test_sentiment_scores[i][2] = temp_ss['pos']\n",
    "    x_test_sentiment_scores[i][3] = temp_ss['compound']\n",
    "\n",
    "\n"
   ]
  },
  {
   "cell_type": "code",
   "execution_count": null,
   "metadata": {},
   "outputs": [],
   "source": []
  },
  {
   "cell_type": "markdown",
   "metadata": {},
   "source": [
    "# Set-1 Data"
   ]
  },
  {
   "cell_type": "code",
   "execution_count": 64,
   "metadata": {},
   "outputs": [
    {
     "data": {
      "text/plain": [
       "((36831, 12429), (18142, 12429))"
      ]
     },
     "execution_count": 64,
     "metadata": {},
     "output_type": "execute_result"
    }
   ],
   "source": [
    "x_tr_set_1 = hstack((x_train_price_norm,\n",
    "                     x_train_pre_posted_norm,\n",
    "                     x_train_clean_subcategories_response_code,\n",
    "                     x_train_project_grade_category_response_code,\n",
    "                     x_train_clean_categories_response_code,\n",
    "                     x_train_essay_tfidf,\n",
    "                     x_train_teacher_prefix_response_code,\n",
    "                     x_train_sentiment_scores,\n",
    "                     x_train_school_state_response_code,\n",
    "                     x_train_project_title_tfidf))\n",
    "\n",
    "x_te_set_1 = hstack((x_test_price_norm,\n",
    "                     x_test_pre_posted_norm,\n",
    "                     x_test_clean_subcategories_response_code,\n",
    "                     x_test_clean_categories_response_code,\n",
    "                     x_test_project_grade_category_response_code,\n",
    "                     x_test_essay_tfidf,\n",
    "                     x_test_teacher_prefix_response_code,\n",
    "                     x_test_sentiment_scores,\n",
    "                     x_test_school_state_response_code,\n",
    "                     x_test_project_title_tfidf))\n",
    "\n",
    "x_tr_set_1.shape, x_te_set_1.shape"
   ]
  },
  {
   "cell_type": "markdown",
   "metadata": {},
   "source": [
    "# Set-2 Data"
   ]
  },
  {
   "cell_type": "code",
   "execution_count": 65,
   "metadata": {},
   "outputs": [
    {
     "data": {
      "text/plain": [
       "((36831, 616), (18142, 616))"
      ]
     },
     "execution_count": 65,
     "metadata": {},
     "output_type": "execute_result"
    }
   ],
   "source": [
    "# x_train_essay_w2v_tfidf,\n",
    "# x_train_project_title_w2v_tfidf\n",
    "\n",
    "\n",
    "x_tr_set_2 = np.hstack((x_train_price_norm,\n",
    "                        x_train_pre_posted_norm,\n",
    "                        x_train_clean_subcategories_response_code,\n",
    "                        x_train_clean_categories_response_code,\n",
    "                        x_train_project_grade_category_response_code,\n",
    "                        x_train_essay_w2v_tfidf,\n",
    "                        x_train_teacher_prefix_response_code,\n",
    "                        x_train_sentiment_scores,\n",
    "                        x_train_school_state_response_code, \n",
    "                        x_train_project_title_w2v_tfidf))\n",
    "\n",
    "\n",
    "\n",
    "x_te_set_2 = np.hstack((x_test_price_norm,\n",
    "                       x_test_pre_posted_norm,\n",
    "                       x_test_clean_subcategories_response_code,\n",
    "                       x_test_clean_categories_response_code,\n",
    "                       x_test_project_grade_category_response_code,\n",
    "                       x_test_essay_w2v_tfidf,\n",
    "                       x_test_teacher_prefix_response_code,\n",
    "                       x_test_sentiment_scores,\n",
    "                       x_test_school_state_response_code,\n",
    "                       x_test_project_title_w2v_tfidf))\n",
    "\n",
    "x_tr_set_2.shape, x_te_set_2.shape"
   ]
  },
  {
   "cell_type": "code",
   "execution_count": 66,
   "metadata": {},
   "outputs": [
    {
     "data": {
      "text/plain": [
       "XGBClassifier(base_score=None, booster=None, colsample_bylevel=None,\n",
       "              colsample_bynode=None, colsample_bytree=None, gamma=None,\n",
       "              gpu_id=None, importance_type='gain', interaction_constraints=None,\n",
       "              learning_rate=None, max_delta_step=None, max_depth=None,\n",
       "              min_child_weight=None, missing=nan, monotone_constraints=None,\n",
       "              n_estimators=100, n_jobs=None, num_parallel_tree=None,\n",
       "              objective='binary:logistic', random_state=None, reg_alpha=None,\n",
       "              reg_lambda=None, scale_pos_weight=None, subsample=None,\n",
       "              tree_method=None, validate_parameters=None, verbosity=None)"
      ]
     },
     "execution_count": 66,
     "metadata": {},
     "output_type": "execute_result"
    }
   ],
   "source": [
    "XGBClassifier()"
   ]
  },
  {
   "cell_type": "markdown",
   "metadata": {},
   "source": [
    "# Hyperparameter tunning"
   ]
  },
  {
   "cell_type": "markdown",
   "metadata": {},
   "source": [
    "## Predicting set-1"
   ]
  },
  {
   "cell_type": "code",
   "execution_count": 67,
   "metadata": {},
   "outputs": [
    {
     "name": "stdout",
     "output_type": "stream",
     "text": [
      "Fitting 2 folds for each of 25 candidates, totalling 50 fits\n"
     ]
    },
    {
     "name": "stderr",
     "output_type": "stream",
     "text": [
      "[Parallel(n_jobs=4)]: Using backend LokyBackend with 4 concurrent workers.\n",
      "[Parallel(n_jobs=4)]: Done  42 tasks      | elapsed: 33.0min\n",
      "[Parallel(n_jobs=4)]: Done  50 out of  50 | elapsed: 47.5min finished\n"
     ]
    },
    {
     "data": {
      "text/plain": [
       "GridSearchCV(cv=2, error_score=nan,\n",
       "             estimator=XGBClassifier(base_score=None, booster=None,\n",
       "                                     colsample_bylevel=None,\n",
       "                                     colsample_bynode=None,\n",
       "                                     colsample_bytree=None, gamma=None,\n",
       "                                     gpu_id=None, importance_type='gain',\n",
       "                                     interaction_constraints=None,\n",
       "                                     learning_rate=None, max_delta_step=None,\n",
       "                                     max_depth=None, min_child_weight=None,\n",
       "                                     missing=nan, monotone_constraints=None,\n",
       "                                     n_estim...\n",
       "                                     objective='binary:logistic',\n",
       "                                     random_state=None, reg_alpha=None,\n",
       "                                     reg_lambda=None, scale_pos_weight=None,\n",
       "                                     subsample=None, tree_method=None,\n",
       "                                     validate_parameters=None, verbosity=None),\n",
       "             iid='deprecated', n_jobs=4,\n",
       "             param_grid={'max_depth': [1, 5, 10, 20, 30],\n",
       "                         'n_estimators': [50, 100, 200, 250, 300]},\n",
       "             pre_dispatch='2*n_jobs', refit=True, return_train_score=True,\n",
       "             scoring='roc_auc', verbose=True)"
      ]
     },
     "execution_count": 67,
     "metadata": {},
     "output_type": "execute_result"
    }
   ],
   "source": [
    "param_grid = {\n",
    "   'max_depth':[1, 5, 10,20 , 30],\n",
    "    \"n_estimators\":[50, 100, 200, 250, 300]\n",
    "    \n",
    "}\n",
    "\n",
    "clfs = GridSearchCV(estimator=XGBClassifier(),\n",
    "                    param_grid=param_grid,\n",
    "                    cv=2,\n",
    "                    scoring=\"roc_auc\",\n",
    "                    n_jobs=4,\n",
    "                    verbose=True,\n",
    "                    return_train_score=True)\n",
    "\n",
    "clfs.fit(x_tr_set_1, y_train)\n",
    "\n"
   ]
  },
  {
   "cell_type": "code",
   "execution_count": 68,
   "metadata": {},
   "outputs": [
    {
     "data": {
      "image/png": "[encoded data removed]",
      "text/plain": [
       "<Figure size 1440x432 with 4 Axes>"
      ]
     },
     "metadata": {},
     "output_type": "display_data"
    }
   ],
   "source": [
    "mean_train_score = clfs.cv_results_['mean_train_score']\n",
    "mean_test_score = clfs.cv_results_['mean_test_score']\n",
    "params = clfs.cv_results_['params']\n",
    "\n",
    "import seaborn as sns; sns.set()\n",
    "\n",
    "max_scores = pd.DataFrame(clfs.cv_results_).groupby(['param_n_estimators', 'param_max_depth']).max().unstack()[['mean_test_score', 'mean_train_score']]\n",
    "fig, ax = plt.subplots(1,2, figsize=(20,6))\n",
    "sns.heatmap(max_scores.mean_train_score, annot = True, fmt='.4g', ax=ax[0])\n",
    "sns.heatmap(max_scores.mean_test_score, annot = True, fmt='.4g', ax=ax[1])\n",
    "ax[0].set_title('Train Set')\n",
    "ax[1].set_title('CV Set')\n",
    "plt.show()"
   ]
  },
  {
   "cell_type": "code",
   "execution_count": 69,
   "metadata": {},
   "outputs": [
    {
     "data": {
      "text/plain": [
       "GridSearchCV(cv=None, error_score=nan,\n",
       "             estimator=XGBClassifier(base_score=None, booster=None,\n",
       "                                     colsample_bylevel=None,\n",
       "                                     colsample_bynode=None,\n",
       "                                     colsample_bytree=None, gamma=None,\n",
       "                                     gpu_id=None, importance_type='gain',\n",
       "                                     interaction_constraints=None,\n",
       "                                     learning_rate=None, max_delta_step=None,\n",
       "                                     max_depth=None, min_child_weight=None,\n",
       "                                     missing=nan, monotone_constraints=None,\n",
       "                                     n_es...\n",
       "                                     num_parallel_tree=None,\n",
       "                                     objective='binary:logistic',\n",
       "                                     random_state=None, reg_alpha=None,\n",
       "                                     reg_lambda=None, scale_pos_weight=None,\n",
       "                                     subsample=None, tree_method=None,\n",
       "                                     validate_parameters=None, verbosity=None),\n",
       "             iid='deprecated', n_jobs=None,\n",
       "             param_grid={'max_depth': [1], 'n_estimators': [300]},\n",
       "             pre_dispatch='2*n_jobs', refit=True, return_train_score=False,\n",
       "             scoring=None, verbose=0)"
      ]
     },
     "execution_count": 69,
     "metadata": {},
     "output_type": "execute_result"
    }
   ],
   "source": [
    "\n",
    "set_1_max_depth = clfs.best_params_['max_depth']\n",
    "set_1_n_estimator = clfs.best_params_['n_estimators']\n",
    "\n",
    "param_grid = {\n",
    "   'max_depth':[clfs.best_params_['max_depth']],\n",
    "    \"n_estimators\":[clfs.best_params_['n_estimators']]\n",
    "    \n",
    "}\n",
    "\n",
    "clf_set1 = GridSearchCV(estimator=XGBClassifier(), param_grid=param_grid)\n",
    "clf_set1.fit(x_tr_set_1, y_train)"
   ]
  },
  {
   "cell_type": "code",
   "execution_count": 70,
   "metadata": {},
   "outputs": [
    {
     "data": {
      "image/png": "[encoded data removed]",
      "text/plain": [
       "<Figure size 432x288 with 1 Axes>"
      ]
     },
     "metadata": {},
     "output_type": "display_data"
    }
   ],
   "source": [
    "from sklearn.metrics import roc_auc_score, auc, roc_curve\n",
    "\n",
    "train_fpr, train_tpr, train_thresholds = roc_curve(y_true=y_train, y_score=clf_set1.predict_proba(x_tr_set_1.tocsr())[:,1])\n",
    "test_fpr, test_tpr, test_thresholds = roc_curve(y_true=y_test, y_score=clf_set1.predict_proba(x_te_set_1.tocsr())[:,1])\n",
    "\n",
    "# Set-1 Test AUC Score\n",
    "set1_AUC_score = auc(test_fpr, test_tpr)\n",
    "\n",
    "plt.plot(train_fpr, train_tpr, label=\"Train AUC =\"+str(auc(train_fpr, train_tpr)))\n",
    "plt.plot(test_fpr, test_tpr, label=\"Test AUC =\"+str(auc(test_fpr, test_tpr)))\n",
    "plt.legend()\n",
    "plt.xlabel(\"True Positive Rate(TPR)\")\n",
    "plt.ylabel(\"False Positive Rate(FPR)\")\n",
    "plt.title(\"AUC\")\n",
    "plt.grid()\n",
    "plt.show()"
   ]
  },
  {
   "cell_type": "code",
   "execution_count": 71,
   "metadata": {},
   "outputs": [
    {
     "data": {
      "text/plain": [
       "array([[   37,  2863],\n",
       "       [   19, 15223]], dtype=int64)"
      ]
     },
     "execution_count": 71,
     "metadata": {},
     "output_type": "execute_result"
    }
   ],
   "source": [
    "from sklearn.metrics import confusion_matrix\n",
    "\n",
    "cf_matrix = confusion_matrix(y_test, clf_set1.predict(x_te_set_1.tocsr()))\n",
    "cf_matrix"
   ]
  },
  {
   "cell_type": "markdown",
   "metadata": {},
   "source": [
    "## Predicting Set -2"
   ]
  },
  {
   "cell_type": "code",
   "execution_count": 72,
   "metadata": {},
   "outputs": [
    {
     "name": "stdout",
     "output_type": "stream",
     "text": [
      "Fitting 2 folds for each of 25 candidates, totalling 50 fits\n"
     ]
    },
    {
     "name": "stderr",
     "output_type": "stream",
     "text": [
      "[Parallel(n_jobs=4)]: Using backend LokyBackend with 4 concurrent workers.\n",
      "[Parallel(n_jobs=4)]: Done  42 tasks      | elapsed: 72.6min\n",
      "[Parallel(n_jobs=4)]: Done  50 out of  50 | elapsed: 96.0min finished\n"
     ]
    },
    {
     "data": {
      "text/plain": [
       "GridSearchCV(cv=2, error_score=nan,\n",
       "             estimator=XGBClassifier(base_score=None, booster=None,\n",
       "                                     colsample_bylevel=None,\n",
       "                                     colsample_bynode=None,\n",
       "                                     colsample_bytree=None, gamma=None,\n",
       "                                     gpu_id=None, importance_type='gain',\n",
       "                                     interaction_constraints=None,\n",
       "                                     learning_rate=None, max_delta_step=None,\n",
       "                                     max_depth=None, min_child_weight=None,\n",
       "                                     missing=nan, monotone_constraints=None,\n",
       "                                     n_estim...\n",
       "                                     objective='binary:logistic',\n",
       "                                     random_state=None, reg_alpha=None,\n",
       "                                     reg_lambda=None, scale_pos_weight=None,\n",
       "                                     subsample=None, tree_method=None,\n",
       "                                     validate_parameters=None, verbosity=None),\n",
       "             iid='deprecated', n_jobs=4,\n",
       "             param_grid={'max_depth': [1, 5, 10, 20, 30],\n",
       "                         'n_estimators': [50, 100, 200, 250, 300]},\n",
       "             pre_dispatch='2*n_jobs', refit=True, return_train_score=True,\n",
       "             scoring='roc_auc', verbose=True)"
      ]
     },
     "execution_count": 72,
     "metadata": {},
     "output_type": "execute_result"
    }
   ],
   "source": [
    "param_grid = {\n",
    "    \n",
    "   'max_depth':[1, 5, 10,20 , 30],\n",
    "    \"n_estimators\":[50, 100, 200, 250, 300]\n",
    "    \n",
    "}\n",
    "\n",
    "clfs = GridSearchCV(estimator=XGBClassifier(),\n",
    "                    param_grid=param_grid,\n",
    "                    cv=2,\n",
    "                    scoring=\"roc_auc\",\n",
    "                    n_jobs=4,\n",
    "                    verbose=True,\n",
    "                    return_train_score=True)\n",
    "\n",
    "clfs.fit(x_tr_set_2, y_train)"
   ]
  },
  {
   "cell_type": "code",
   "execution_count": 73,
   "metadata": {},
   "outputs": [
    {
     "data": {
      "image/png": "[encoded data removed]",
      "text/plain": [
       "<Figure size 1440x432 with 4 Axes>"
      ]
     },
     "metadata": {},
     "output_type": "display_data"
    }
   ],
   "source": [
    "mean_train_score = clfs.cv_results_['mean_train_score']\n",
    "mean_test_score = clfs.cv_results_['mean_test_score']\n",
    "params = clfs.cv_results_['params']\n",
    "\n",
    "import seaborn as sns; sns.set()\n",
    "\n",
    "max_scores = pd.DataFrame(clfs.cv_results_).groupby(['param_n_estimators', 'param_max_depth']).max().unstack()[['mean_test_score', 'mean_train_score']]\n",
    "fig, ax = plt.subplots(1,2, figsize=(20,6))\n",
    "sns.heatmap(max_scores.mean_train_score, annot = True, fmt='.4g', ax=ax[0])\n",
    "sns.heatmap(max_scores.mean_test_score, annot = True, fmt='.4g', ax=ax[1])\n",
    "ax[0].set_title('Train Set')\n",
    "ax[1].set_title('CV Set')\n",
    "plt.show()"
   ]
  },
  {
   "cell_type": "code",
   "execution_count": 74,
   "metadata": {},
   "outputs": [
    {
     "data": {
      "text/plain": [
       "GridSearchCV(cv=None, error_score=nan,\n",
       "             estimator=XGBClassifier(base_score=None, booster=None,\n",
       "                                     colsample_bylevel=None,\n",
       "                                     colsample_bynode=None,\n",
       "                                     colsample_bytree=None, gamma=None,\n",
       "                                     gpu_id=None, importance_type='gain',\n",
       "                                     interaction_constraints=None,\n",
       "                                     learning_rate=None, max_delta_step=None,\n",
       "                                     max_depth=None, min_child_weight=None,\n",
       "                                     missing=nan, monotone_constraints=None,\n",
       "                                     n_es...\n",
       "                                     num_parallel_tree=None,\n",
       "                                     objective='binary:logistic',\n",
       "                                     random_state=None, reg_alpha=None,\n",
       "                                     reg_lambda=None, scale_pos_weight=None,\n",
       "                                     subsample=None, tree_method=None,\n",
       "                                     validate_parameters=None, verbosity=None),\n",
       "             iid='deprecated', n_jobs=None,\n",
       "             param_grid={'max_depth': [1], 'n_estimators': [200]},\n",
       "             pre_dispatch='2*n_jobs', refit=True, return_train_score=False,\n",
       "             scoring=None, verbose=0)"
      ]
     },
     "execution_count": 74,
     "metadata": {},
     "output_type": "execute_result"
    }
   ],
   "source": [
    "param_grid = {\n",
    "   'max_depth':[clfs.best_params_['max_depth']],\n",
    "    \"n_estimators\":[clfs.best_params_['n_estimators']]\n",
    "    \n",
    "}\n",
    "# best value for max_depth\n",
    "set_2_max_depth = clfs.best_params_['max_depth']\n",
    "# best value for n_estimators\n",
    "set_2_n_estimator = clfs.best_params_['n_estimators']\n",
    "\n",
    "clf_set2 = GridSearchCV(estimator=XGBClassifier(), param_grid=param_grid)\n",
    "clf_set2.fit(x_tr_set_2, y_train)"
   ]
  },
  {
   "cell_type": "code",
   "execution_count": 75,
   "metadata": {},
   "outputs": [
    {
     "data": {
      "image/png": "[encoded data removed]",
      "text/plain": [
       "<Figure size 432x288 with 1 Axes>"
      ]
     },
     "metadata": {},
     "output_type": "display_data"
    }
   ],
   "source": [
    "from sklearn.metrics import roc_auc_score, auc, roc_curve\n",
    "\n",
    "train_fpr, train_tpr, train_thresholds = roc_curve(y_true=y_train, y_score=clf_set2.predict_proba(x_tr_set_2)[:,1])\n",
    "test_fpr, test_tpr, test_thresholds = roc_curve(y_true=y_test, y_score=clf_set2.predict_proba(x_te_set_2)[:,1])\n",
    "\n",
    "# set 2 - Test AUC score\n",
    "set2_AUC_score = auc(test_fpr, test_tpr)\n",
    "\n",
    "plt.plot(train_fpr, train_tpr, label=\"Train AUC =\"+str(auc(train_fpr, train_tpr)))\n",
    "plt.plot(test_fpr, test_tpr, label=\"Test AUC =\"+str(auc(test_fpr, test_tpr)))\n",
    "plt.legend()\n",
    "plt.xlabel(\"True Positive Rate(TPR)\")\n",
    "plt.ylabel(\"False Positive Rate(FPR)\")\n",
    "plt.title(\"AUC\")\n",
    "plt.grid()\n",
    "plt.show()"
   ]
  },
  {
   "cell_type": "code",
   "execution_count": 76,
   "metadata": {},
   "outputs": [
    {
     "data": {
      "text/plain": [
       "array([[    9,  2891],\n",
       "       [    8, 15234]], dtype=int64)"
      ]
     },
     "execution_count": 76,
     "metadata": {},
     "output_type": "execute_result"
    }
   ],
   "source": [
    "from sklearn.metrics import confusion_matrix\n",
    "\n",
    "cf_matrix = confusion_matrix(y_test, clf_set2.predict(x_te_set_2))\n",
    "cf_matrix"
   ]
  },
  {
   "cell_type": "markdown",
   "metadata": {},
   "source": [
    "# Result"
   ]
  },
  {
   "cell_type": "code",
   "execution_count": 77,
   "metadata": {},
   "outputs": [
    {
     "name": "stdout",
     "output_type": "stream",
     "text": [
      "+------------+---------+-----------+--------------+--------------------+\n",
      "| Vectorizer |  Model  | Max_depth | n_estimators |        AUC         |\n",
      "+------------+---------+-----------+--------------+--------------------+\n",
      "|   TF-IDF   | XGBOOST |     1     |     300      | 0.7028635598550285 |\n",
      "| TF-IDF_W2V | XGBOOST |     1     |     200      | 0.6778962055843879 |\n",
      "+------------+---------+-----------+--------------+--------------------+\n"
     ]
    }
   ],
   "source": [
    "from prettytable import PrettyTable\n",
    "\n",
    "t = PrettyTable(['Vectorizer', 'Model', 'Max_depth', 'n_estimators', 'AUC'])\n",
    "t.add_row(['TF-IDF', 'XGBOOST',set_1_max_depth, set_1_n_estimator, set1_AUC_score])\n",
    "t.add_row(['TF-IDF_W2V', 'XGBOOST', set_2_max_depth, set_2_n_estimator, set2_AUC_score])\n",
    "print(t)"
   ]
  }
 ],
 "metadata": {
  "kernelspec": {
   "display_name": "Python 3",
   "language": "python",
   "name": "python3"
  },
  "language_info": {
   "codemirror_mode": {
    "name": "ipython",
    "version": 3
   },
   "file_extension": ".py",
   "mimetype": "text/x-python",
   "name": "python",
   "nbconvert_exporter": "python",
   "pygments_lexer": "ipython3",
   "version": "3.8.5"
  },
  "pycharm": {
   "stem_cell": {
    "cell_type": "raw",
    "metadata": {
     "collapsed": false
    },
    "source": []
   }
  }
 },
 "nbformat": 4,
 "nbformat_minor": 1
}
