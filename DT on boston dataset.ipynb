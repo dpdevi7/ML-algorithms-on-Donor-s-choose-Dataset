{
 "cells": [
  {
   "cell_type": "code",
   "execution_count": 1,
   "metadata": {},
   "outputs": [],
   "source": [
    "import numpy as np \n",
    "import pandas as pd\n",
    "from sklearn.datasets import load_boston \n",
    "from sklearn.metrics import mean_squared_error \n",
    "import random\n",
    "from sklearn.tree import DecisionTreeRegressor\n",
    "from prettytable import PrettyTable"
   ]
  },
  {
   "cell_type": "code",
   "execution_count": 2,
   "metadata": {},
   "outputs": [],
   "source": [
    "boston = load_boston()\n",
    "x=boston.data \n",
    "y=boston.target"
   ]
  },
  {
   "cell_type": "code",
   "execution_count": 3,
   "metadata": {},
   "outputs": [
    {
     "data": {
      "text/html": [
       "<div>\n",
       "<style scoped>\n",
       "    .dataframe tbody tr th:only-of-type {\n",
       "        vertical-align: middle;\n",
       "    }\n",
       "\n",
       "    .dataframe tbody tr th {\n",
       "        vertical-align: top;\n",
       "    }\n",
       "\n",
       "    .dataframe thead th {\n",
       "        text-align: right;\n",
       "    }\n",
       "</style>\n",
       "<table border=\"1\" class=\"dataframe\">\n",
       "  <thead>\n",
       "    <tr style=\"text-align: right;\">\n",
       "      <th></th>\n",
       "      <th>CRIM</th>\n",
       "      <th>ZN</th>\n",
       "      <th>INDUS</th>\n",
       "      <th>CHAS</th>\n",
       "      <th>NOX</th>\n",
       "      <th>RM</th>\n",
       "      <th>AGE</th>\n",
       "      <th>DIS</th>\n",
       "      <th>RAD</th>\n",
       "      <th>TAX</th>\n",
       "      <th>PTRATIO</th>\n",
       "      <th>B</th>\n",
       "      <th>LSTAT</th>\n",
       "      <th>PRICE</th>\n",
       "    </tr>\n",
       "  </thead>\n",
       "  <tbody>\n",
       "    <tr>\n",
       "      <th>0</th>\n",
       "      <td>0.00632</td>\n",
       "      <td>18.0</td>\n",
       "      <td>2.31</td>\n",
       "      <td>0.0</td>\n",
       "      <td>0.538</td>\n",
       "      <td>6.575</td>\n",
       "      <td>65.2</td>\n",
       "      <td>4.0900</td>\n",
       "      <td>1.0</td>\n",
       "      <td>296.0</td>\n",
       "      <td>15.3</td>\n",
       "      <td>396.90</td>\n",
       "      <td>4.98</td>\n",
       "      <td>24.0</td>\n",
       "    </tr>\n",
       "    <tr>\n",
       "      <th>1</th>\n",
       "      <td>0.02731</td>\n",
       "      <td>0.0</td>\n",
       "      <td>7.07</td>\n",
       "      <td>0.0</td>\n",
       "      <td>0.469</td>\n",
       "      <td>6.421</td>\n",
       "      <td>78.9</td>\n",
       "      <td>4.9671</td>\n",
       "      <td>2.0</td>\n",
       "      <td>242.0</td>\n",
       "      <td>17.8</td>\n",
       "      <td>396.90</td>\n",
       "      <td>9.14</td>\n",
       "      <td>21.6</td>\n",
       "    </tr>\n",
       "    <tr>\n",
       "      <th>2</th>\n",
       "      <td>0.02729</td>\n",
       "      <td>0.0</td>\n",
       "      <td>7.07</td>\n",
       "      <td>0.0</td>\n",
       "      <td>0.469</td>\n",
       "      <td>7.185</td>\n",
       "      <td>61.1</td>\n",
       "      <td>4.9671</td>\n",
       "      <td>2.0</td>\n",
       "      <td>242.0</td>\n",
       "      <td>17.8</td>\n",
       "      <td>392.83</td>\n",
       "      <td>4.03</td>\n",
       "      <td>34.7</td>\n",
       "    </tr>\n",
       "    <tr>\n",
       "      <th>3</th>\n",
       "      <td>0.03237</td>\n",
       "      <td>0.0</td>\n",
       "      <td>2.18</td>\n",
       "      <td>0.0</td>\n",
       "      <td>0.458</td>\n",
       "      <td>6.998</td>\n",
       "      <td>45.8</td>\n",
       "      <td>6.0622</td>\n",
       "      <td>3.0</td>\n",
       "      <td>222.0</td>\n",
       "      <td>18.7</td>\n",
       "      <td>394.63</td>\n",
       "      <td>2.94</td>\n",
       "      <td>33.4</td>\n",
       "    </tr>\n",
       "    <tr>\n",
       "      <th>4</th>\n",
       "      <td>0.06905</td>\n",
       "      <td>0.0</td>\n",
       "      <td>2.18</td>\n",
       "      <td>0.0</td>\n",
       "      <td>0.458</td>\n",
       "      <td>7.147</td>\n",
       "      <td>54.2</td>\n",
       "      <td>6.0622</td>\n",
       "      <td>3.0</td>\n",
       "      <td>222.0</td>\n",
       "      <td>18.7</td>\n",
       "      <td>396.90</td>\n",
       "      <td>5.33</td>\n",
       "      <td>36.2</td>\n",
       "    </tr>\n",
       "  </tbody>\n",
       "</table>\n",
       "</div>"
      ],
      "text/plain": [
       "      CRIM    ZN  INDUS  CHAS    NOX     RM   AGE     DIS  RAD    TAX  \\\n",
       "0  0.00632  18.0   2.31   0.0  0.538  6.575  65.2  4.0900  1.0  296.0   \n",
       "1  0.02731   0.0   7.07   0.0  0.469  6.421  78.9  4.9671  2.0  242.0   \n",
       "2  0.02729   0.0   7.07   0.0  0.469  7.185  61.1  4.9671  2.0  242.0   \n",
       "3  0.03237   0.0   2.18   0.0  0.458  6.998  45.8  6.0622  3.0  222.0   \n",
       "4  0.06905   0.0   2.18   0.0  0.458  7.147  54.2  6.0622  3.0  222.0   \n",
       "\n",
       "   PTRATIO       B  LSTAT  PRICE  \n",
       "0     15.3  396.90   4.98   24.0  \n",
       "1     17.8  396.90   9.14   21.6  \n",
       "2     17.8  392.83   4.03   34.7  \n",
       "3     18.7  394.63   2.94   33.4  \n",
       "4     18.7  396.90   5.33   36.2  "
      ]
     },
     "execution_count": 3,
     "metadata": {},
     "output_type": "execute_result"
    }
   ],
   "source": [
    "df = pd.DataFrame(x, columns=boston.feature_names)\n",
    "df['PRICE'] = y\n",
    "\n",
    "no_of_total_columns = len(df.columns) - 1\n",
    "df.head()"
   ]
  },
  {
   "cell_type": "code",
   "execution_count": 4,
   "metadata": {},
   "outputs": [],
   "source": [
    "def generating_samples(x, y):\n",
    "    \n",
    "    # random rows 303, keep it\n",
    "    selecting_rows = sorted(np.random.choice(a=506, size=303, replace=False), reverse=False)\n",
    "    \n",
    "    # randomly choose columns 3<= col <=13\n",
    "    rnd_number = random.randint(3, 13)\n",
    "    selecting_cols = sorted(np.random.choice(a=13, size=rnd_number, replace=False), reverse=False)\n",
    "    \n",
    "    \n",
    "    # Preparing Data\n",
    "    \n",
    "    # selecting_row_ and selecting_cols data\n",
    "    sample_data = x[selecting_rows,:]\n",
    "    sample_data = sample_data[:, selecting_cols]\n",
    "    sample_target = y[selecting_rows]\n",
    "    \n",
    "    # replaced_row data\n",
    "    # random 203 points from 303\n",
    "    replacing_rows = sorted(np.random.choice(a=303, size=203, replace=False), reverse=False)\n",
    "    replaced_data = sample_data[replacing_rows]\n",
    "    replaced_target = sample_target[replacing_rows]\n",
    "    \n",
    "    # stacking selected_data and replaced_data\n",
    "    final_sample_data = np.vstack((sample_data, replaced_data))\n",
    "    final_sample_target = np.vstack((sample_target.reshape(-1, 1), replaced_target.reshape(-1, 1)))\n",
    "\n",
    "    \n",
    "    # return sampled data_points, sampled target data, sampled_row indexs, sampled_column index\n",
    "    \n",
    "    return final_sample_data, final_sample_target, selecting_rows, selecting_cols\n",
    "    \n",
    "    \n",
    "    \n",
    "    "
   ]
  },
  {
   "cell_type": "code",
   "execution_count": 5,
   "metadata": {},
   "outputs": [],
   "source": [
    "final_sample_data, final_sample_target, selecting_rows, selecting_cols = generating_samples(x, y)"
   ]
  },
  {
   "cell_type": "code",
   "execution_count": 6,
   "metadata": {},
   "outputs": [
    {
     "data": {
      "text/plain": [
       "True"
      ]
     },
     "execution_count": 6,
     "metadata": {},
     "output_type": "execute_result"
    }
   ],
   "source": [
    "def grader_samples(a,b,c,d):\n",
    "    length = (len(a)==506  and len(b)==506)\n",
    "    sampled = (len(a)-len(set([str(i) for i in a]))==203)\n",
    "    rows_length = (len(c)==303)\n",
    "    column_length= (len(d)>=3)\n",
    "    assert(length and sampled and rows_length and column_length)\n",
    "    return True\n",
    "\n",
    "\n",
    "a,b,c,d = generating_samples(x, y)\n",
    "grader_samples(a,b,c,d)"
   ]
  },
  {
   "cell_type": "markdown",
   "metadata": {},
   "source": [
    "# Task -1 (Creating 30 samples)"
   ]
  },
  {
   "cell_type": "code",
   "execution_count": 7,
   "metadata": {},
   "outputs": [
    {
     "data": {
      "text/plain": [
       "True"
      ]
     },
     "execution_count": 7,
     "metadata": {},
     "output_type": "execute_result"
    }
   ],
   "source": [
    "list_of_input_data = []\n",
    "list_of_output_data = []\n",
    "list_of_selected_rows = []\n",
    "list_of_selected_cols = []\n",
    "\n",
    "for i in range(30):\n",
    "    \n",
    "    final_sample_data, final_sample_target, selecting_rows, selecting_cols = generating_samples(x, y)\n",
    "\n",
    "    list_of_input_data.append(final_sample_data)\n",
    "    list_of_output_data.append(final_sample_target)\n",
    "    list_of_selected_rows.append(selecting_rows)\n",
    "    list_of_selected_cols.append(selecting_cols)\n",
    "\n",
    "\n",
    "\n",
    "\n",
    "def grader_30(a):\n",
    "    assert(len(a)==30 and len(a[0])==506)\n",
    "    return True\n",
    "    \n",
    "grader_30(list_of_input_data)"
   ]
  },
  {
   "cell_type": "markdown",
   "metadata": {},
   "source": [
    "# Storing 30 models"
   ]
  },
  {
   "cell_type": "code",
   "execution_count": 8,
   "metadata": {},
   "outputs": [
    {
     "name": "stdout",
     "output_type": "stream",
     "text": [
      "30\n"
     ]
    }
   ],
   "source": [
    "list_of_models = []\n",
    "\n",
    "for input_data, output_data in zip(list_of_input_data, list_of_output_data):\n",
    "  model = DecisionTreeRegressor(max_depth=None)\n",
    "  model.fit(input_data, output_data)\n",
    "  list_of_models.append(model)\n",
    "\n",
    "print(len(list_of_models))"
   ]
  },
  {
   "cell_type": "markdown",
   "metadata": {},
   "source": [
    "# Calculating MSE"
   ]
  },
  {
   "cell_type": "code",
   "execution_count": 9,
   "metadata": {},
   "outputs": [
    {
     "data": {
      "text/plain": [
       "((506, 1), (506, 1), (506, 6))"
      ]
     },
     "execution_count": 9,
     "metadata": {},
     "output_type": "execute_result"
    }
   ],
   "source": [
    "y_pred_all_models = []\n",
    "\n",
    "for col_sampling, model in zip(list_of_selected_cols, list_of_models):\n",
    "    \n",
    "    x_input = x[:, col_sampling]\n",
    "    y_pred_all_models.append(model.predict(x_input).reshape(-1, 1))\n",
    "\n",
    "  \n",
    "y_pred = np.around(np.divide(np.sum(y_pred_all_models, axis=0), 30), 1)\n",
    "\n",
    "y = y.reshape(-1, 1)\n",
    "y_pred.shape, y.shape, list_of_input_data[0].shape\n"
   ]
  },
  {
   "cell_type": "code",
   "execution_count": 10,
   "metadata": {},
   "outputs": [
    {
     "data": {
      "text/plain": [
       "2.3622332015810272"
      ]
     },
     "execution_count": 10,
     "metadata": {},
     "output_type": "execute_result"
    }
   ],
   "source": [
    "mse = np.square(np.subtract(y, y_pred)).mean()\n",
    "mse"
   ]
  },
  {
   "cell_type": "markdown",
   "metadata": {},
   "source": [
    "# Calculating OOB Score"
   ]
  },
  {
   "cell_type": "code",
   "execution_count": 20,
   "metadata": {},
   "outputs": [
    {
     "name": "stdout",
     "output_type": "stream",
     "text": [
      "(506, 1)\n",
      "(506, 1)\n",
      "true: [24.], pred: [31.95]\n"
     ]
    }
   ],
   "source": [
    "oob_y_pred = []\n",
    "\n",
    "for data_index, data_row in enumerate(x):\n",
    "    \n",
    "    temp_y_pred = []\n",
    "\n",
    "    for selected_rows_index, selected_col_index, model in zip(list_of_selected_rows, list_of_selected_cols, list_of_models):\n",
    "        \n",
    "        if data_index not in selected_rows_index:\n",
    "            \n",
    "            # do column sampling\n",
    "            x_input = np.array(data_row).reshape(1, -1)[:, selected_col_index]\n",
    "            \n",
    "            \n",
    "            # predict push to temp_y_pred\n",
    "            temp_y_pred.append(model.predict(x_input))\n",
    "    \n",
    "\n",
    "    # do calculataion and push to oob_y_pred\n",
    "    y_pred = np.median(np.asarray(temp_y_pred))\n",
    "\n",
    "    oob_y_pred.append(y_pred)\n",
    "\n",
    "\n",
    "\n",
    "oob_y_pred = np.array(oob_y_pred).reshape(-1, 1)\n",
    "\n",
    "print(oob_y_pred.shape)\n",
    "print(y.shape)\n",
    "print(\"true: {}, pred: {}\".format(y[0], oob_y_pred[0]))"
   ]
  },
  {
   "cell_type": "code",
   "execution_count": 21,
   "metadata": {},
   "outputs": [
    {
     "data": {
      "text/plain": [
       "14.016645223030086"
      ]
     },
     "execution_count": 21,
     "metadata": {},
     "output_type": "execute_result"
    }
   ],
   "source": [
    "oob_score = np.square(np.subtract(oob_y_pred, y)).mean()\n",
    "oob_score"
   ]
  },
  {
   "cell_type": "markdown",
   "metadata": {},
   "source": [
    "# Train MSE Scores"
   ]
  },
  {
   "cell_type": "code",
   "execution_count": 22,
   "metadata": {},
   "outputs": [],
   "source": [
    "train_mse_scores = []\n",
    "\n",
    "for i in range(35):\n",
    "    \n",
    "    # sampling\n",
    "\n",
    "    list_of_input_data = []\n",
    "    list_of_output_data = []\n",
    "    list_of_selected_rows = []\n",
    "    list_of_selected_cols = []\n",
    "\n",
    "    for i in range(30):\n",
    "    \n",
    "        final_sample_data, final_sample_target, selecting_rows, selecting_cols = generating_samples(x, y)\n",
    "\n",
    "        list_of_input_data.append(final_sample_data)\n",
    "        list_of_output_data.append(final_sample_target)\n",
    "        list_of_selected_rows.append(selecting_rows)\n",
    "        list_of_selected_cols.append(selecting_cols)\n",
    "\n",
    "    # List of models\n",
    "\n",
    "    list_of_models = []\n",
    "\n",
    "    for input_data, output_data in zip(list_of_input_data, list_of_output_data):\n",
    "        \n",
    "        model = DecisionTreeRegressor(max_depth=None)\n",
    "        model.fit(input_data, output_data)\n",
    "        list_of_models.append(model)\n",
    "  \n",
    "    # Predicting and calculating MSE\n",
    "\n",
    "  \n",
    "    y_pred_all_models = []\n",
    "\n",
    "    for col_sampling, model in zip(list_of_selected_cols, list_of_models):\n",
    "\n",
    "        x_input = x[:, col_sampling]\n",
    "        y_pred_all_models.append(model.predict(x_input).reshape(-1, 1))\n",
    "\n",
    "\n",
    "    y_pred = np.around(np.divide(np.sum(y_pred_all_models, axis=0), 30), 1)\n",
    "\n",
    "    mse = np.square(np.subtract(y, y_pred)).mean()\n",
    "  \n",
    "    #Stored in a list\n",
    "    train_mse_scores.append(mse)"
   ]
  },
  {
   "cell_type": "code",
   "execution_count": 14,
   "metadata": {},
   "outputs": [
    {
     "name": "stdout",
     "output_type": "stream",
     "text": [
      "35\n",
      "[2.8683399209486167, 2.155790513833992, 2.7674901185770744, 2.1426086956521737, 2.1098616600790514, 2.792351778656126, 2.1528063241106716, 2.4678260869565216, 1.9978063241106718, 2.030098814229249, 2.4497628458498024, 2.873458498023715, 2.2759486166007896, 2.1954150197628457, 2.056383399209486, 3.0770750988142295, 2.886324110671936, 2.5661462450592882, 2.1811264822134384, 1.9558102766798422, 1.903102766798419, 1.975039525691699, 2.7585770750988137, 2.058300395256917, 2.393636363636363, 2.2669367588932805, 2.1659486166007906, 2.1801778656126483, 2.181916996047431, 2.1927075098814233, 2.4847430830039525, 2.365415019762845, 2.1672529644268774, 2.9212845849802362, 2.144802371541502]\n"
     ]
    }
   ],
   "source": [
    "print(len(train_mse_scores)) \n",
    "print(train_mse_scores)"
   ]
  },
  {
   "cell_type": "markdown",
   "metadata": {},
   "source": [
    "# OOB Scores"
   ]
  },
  {
   "cell_type": "code",
   "execution_count": 29,
   "metadata": {},
   "outputs": [],
   "source": [
    "test_oob_scores = []\n",
    "\n",
    "for i in range(35):\n",
    "    \n",
    "    # sampling\n",
    "\n",
    "    list_of_input_data = []\n",
    "    list_of_output_data = []\n",
    "    list_of_selected_rows = []\n",
    "    list_of_selected_cols = []\n",
    "\n",
    "    for i in range(30):\n",
    "    \n",
    "        final_sample_data, final_sample_target, selecting_rows, selecting_cols = generating_samples(x, y)\n",
    "\n",
    "        list_of_input_data.append(final_sample_data)\n",
    "        list_of_output_data.append(final_sample_target)\n",
    "        list_of_selected_rows.append(selecting_rows)\n",
    "        list_of_selected_cols.append(selecting_cols)\n",
    "\n",
    "    # List of models\n",
    "\n",
    "    list_of_models = []\n",
    "\n",
    "    for input_data, output_data in zip(list_of_input_data, list_of_output_data):\n",
    "        \n",
    "        model = DecisionTreeRegressor(max_depth=None)\n",
    "        model.fit(input_data, output_data)\n",
    "        list_of_models.append(model)\n",
    "  \n",
    "    # Predicting and calculating OOB\n",
    "\n",
    "    oob_y_pred = []\n",
    "\n",
    "    for data_index, data_row in enumerate(x):\n",
    "\n",
    "        temp_y_pred = []\n",
    "\n",
    "        for selected_rows_index, selected_col_index, model in zip(list_of_selected_rows, list_of_selected_cols, list_of_models):\n",
    "\n",
    "            if data_index not in selected_rows_index:\n",
    "\n",
    "                # do column sampling\n",
    "                x_input = np.array(data_row).reshape(1, -1)[:, selected_col_index]\n",
    "\n",
    "\n",
    "                # predict push to temp_y_pred\n",
    "                temp_y_pred.append(model.predict(x_input))\n",
    "\n",
    "\n",
    "        # do calculataion and push to oob_y_pred\n",
    "        y_pred = np.median(np.asarray(temp_y_pred))\n",
    "\n",
    "        oob_y_pred.append(y_pred)\n",
    "\n",
    "\n",
    "\n",
    "    oob_y_pred = np.array(oob_y_pred).reshape(-1, 1)\n",
    "    \n",
    "    oob_score = np.square(np.subtract(oob_y_pred, y)).mean()\n",
    "  \n",
    "    #Stored in a list\n",
    "    test_oob_scores.append(oob_score)"
   ]
  },
  {
   "cell_type": "code",
   "execution_count": 30,
   "metadata": {},
   "outputs": [
    {
     "name": "stdout",
     "output_type": "stream",
     "text": [
      "35\n",
      "[14.337240146906693, 14.787600217508244, 13.594189723320158, 14.80823740118577, 14.723413916564132, 14.007485704874835, 13.388359683794466, 17.450867988871654, 15.38008166431686, 12.239359295277827, 14.263373164683083, 12.384036807740223, 18.182400221849957, 13.205228782290394, 14.705339117994498, 13.74955533596838, 14.562552170820874, 15.344541749011858, 14.014589787474696, 14.65601909012268, 15.006899436383577, 11.434801129425535, 14.394506779924697, 16.228079161176986, 13.42788098375055, 12.524988123124661, 12.155026124776606, 13.67620937637242, 15.818227903926172, 14.148537989529608, 12.501847277119015, 19.897433064891807, 14.624507707509881, 13.771521739130433, 13.860377327115085]\n"
     ]
    }
   ],
   "source": [
    "print(len(test_oob_scores))\n",
    "print(test_oob_scores)"
   ]
  },
  {
   "cell_type": "markdown",
   "metadata": {},
   "source": [
    "# Computing CI of OOB Score and Train MSE"
   ]
  },
  {
   "cell_type": "code",
   "execution_count": 31,
   "metadata": {},
   "outputs": [
    {
     "name": "stdout",
     "output_type": "stream",
     "text": [
      "+----------+-------------+-------+--------------+---------------+-----------+--------+--------------+---------------+-----------+\n",
      "| #samples | Sample Size |  MSE  | Left C.I MSE | Right C.I MSE | MSE Catch |  OOB   | Left C.I OOB | Right C.I OOB | OOB Catch |\n",
      "+----------+-------------+-------+--------------+---------------+-----------+--------+--------------+---------------+-----------+\n",
      "|    30    |     506     | 2.217 |    2.123     |     2.311     |    True   | 14.337 |    14.099    |     14.575    |    True   |\n",
      "|    30    |     506     |  2.94 |    2.832     |     3.048     |    True   | 14.788 |    14.546    |     15.03     |    True   |\n",
      "|    30    |     506     | 2.661 |    2.558     |     2.764     |    True   | 13.594 |    13.362    |     13.826    |    True   |\n",
      "|    30    |     506     | 2.632 |     2.53     |     2.734     |    True   | 14.808 |    14.566    |     15.05     |    True   |\n",
      "|    30    |     506     |  2.54 |     2.44     |      2.64     |    True   | 14.723 |    14.482    |     14.964    |    True   |\n",
      "|    30    |     506     | 2.355 |    2.259     |     2.451     |    True   | 14.007 |    13.772    |     14.242    |    True   |\n",
      "|    30    |     506     | 2.567 |    2.466     |     2.668     |    True   | 13.388 |    13.158    |     13.618    |    True   |\n",
      "|    30    |     506     | 3.351 |    3.236     |     3.466     |    True   | 17.451 |    17.188    |     17.714    |    True   |\n",
      "|    30    |     506     | 3.001 |    2.892     |      3.11     |    True   | 15.38  |    15.133    |     15.627    |    True   |\n",
      "|    30    |     506     | 2.123 |    2.031     |     2.215     |    True   | 12.239 |    12.019    |     12.459    |    True   |\n",
      "|    30    |     506     |  1.99 |    1.901     |     2.079     |    True   | 14.263 |    14.026    |      14.5     |    True   |\n",
      "|    30    |     506     | 2.436 |    2.338     |     2.534     |    True   | 12.384 |    12.163    |     12.605    |    True   |\n",
      "|    30    |     506     | 2.822 |    2.716     |     2.928     |    True   | 18.182 |    17.914    |     18.45     |    True   |\n",
      "|    30    |     506     | 2.489 |     2.39     |     2.588     |    True   | 13.205 |    12.977    |     13.433    |    True   |\n",
      "|    30    |     506     | 2.364 |    2.267     |     2.461     |    True   | 14.705 |    14.464    |     14.946    |    True   |\n",
      "|    30    |     506     | 2.185 |    2.092     |     2.278     |    True   | 13.75  |    13.517    |     13.983    |    True   |\n",
      "|    30    |     506     | 2.517 |    2.417     |     2.617     |    True   | 14.563 |    14.323    |     14.803    |    True   |\n",
      "|    30    |     506     | 2.339 |    2.243     |     2.435     |    True   | 15.345 |    15.099    |     15.591    |    True   |\n",
      "|    30    |     506     | 2.724 |     2.62     |     2.828     |    True   | 14.015 |    13.78     |     14.25     |    True   |\n",
      "|    30    |     506     | 2.311 |    2.215     |     2.407     |    True   | 14.656 |    14.415    |     14.897    |    True   |\n",
      "|    30    |     506     | 2.253 |    2.159     |     2.347     |    True   | 15.007 |    14.763    |     15.251    |    True   |\n",
      "|    30    |     506     | 2.747 |    2.643     |     2.851     |    True   | 11.435 |    11.222    |     11.648    |    True   |\n",
      "|    30    |     506     | 2.246 |    2.152     |      2.34     |    True   | 14.395 |    14.156    |     14.634    |    True   |\n",
      "|    30    |     506     | 2.047 |    1.957     |     2.137     |    True   | 16.228 |    15.975    |     16.481    |    True   |\n",
      "|    30    |     506     | 2.241 |    2.147     |     2.335     |    True   | 13.428 |    13.198    |     13.658    |    True   |\n",
      "|    30    |     506     | 2.277 |    2.182     |     2.372     |    True   | 12.525 |    12.303    |     12.747    |    True   |\n",
      "|    30    |     506     | 2.621 |    2.519     |     2.723     |    True   | 12.155 |    11.936    |     12.374    |    True   |\n",
      "|    30    |     506     | 3.048 |    2.938     |     3.158     |    True   | 13.676 |    13.444    |     13.908    |    True   |\n",
      "|    30    |     506     |  2.74 |    2.636     |     2.844     |    True   | 15.818 |    15.568    |     16.068    |    True   |\n",
      "|    30    |     506     | 3.007 |    2.898     |     3.116     |    True   | 14.149 |    13.913    |     14.385    |    True   |\n",
      "|    30    |     506     | 2.302 |    2.207     |     2.397     |    True   | 12.502 |    12.28     |     12.724    |    True   |\n",
      "|    30    |     506     | 2.584 |    2.483     |     2.685     |    True   | 19.897 |    19.617    |     20.177    |    True   |\n",
      "|    30    |     506     | 2.132 |     2.04     |     2.224     |    True   | 14.625 |    14.385    |     14.865    |    True   |\n",
      "|    30    |     506     | 2.746 |    2.642     |      2.85     |    True   | 13.772 |    13.539    |     14.005    |    True   |\n",
      "|    30    |     506     | 2.005 |    1.916     |     2.094     |    True   | 13.86  |    13.626    |     14.094    |    True   |\n",
      "+----------+-------------+-------+--------------+---------------+-----------+--------+--------------+---------------+-----------+\n"
     ]
    }
   ],
   "source": [
    "x = PrettyTable()\n",
    "x = PrettyTable([\"#samples\", \"Sample Size\", \"MSE\", \"Left C.I MSE\", \"Right C.I MSE\", \"MSE Catch\", \"OOB\", \"Left C.I OOB\", \"Right C.I OOB\", \"OOB Catch\"])\n",
    "\n",
    "count = 0\n",
    "\n",
    "\n",
    "\n",
    "for mse, oob in zip(train_mse_scores, test_oob_scores):\n",
    "    \n",
    "    mse = np.round(mse, 3)\n",
    "    oob = np.round(oob, 3)\n",
    "\n",
    "\n",
    "    standard_error_mse = np.sqrt(np.divide((2*mse), 506))\n",
    "    ci_mse_left = np.round((mse - standard_error_mse), 3)\n",
    "    ci_mse_right = np.round((mse + standard_error_mse), 3)\n",
    "\n",
    "    standard_error_oob = np.sqrt(np.divide((2*oob), 506))\n",
    "    ci_oob_left = np.round((oob - standard_error_oob), 3)\n",
    "    ci_oob_right = np.round((oob + standard_error_oob), 3)\n",
    "\n",
    "    row = []\n",
    "    row.append(i+1)\n",
    "    row.append(\"506\")\n",
    "    row.append(mse)\n",
    "    row.append(ci_mse_left)\n",
    "    row.append(ci_mse_right)\n",
    "    row.append((mse >= ci_mse_left) and (mse <= ci_mse_right))\n",
    "    row.append(oob)\n",
    "    row.append(ci_oob_left)\n",
    "    row.append(ci_oob_right)\n",
    "    row.append((oob >= ci_oob_left) and (oob <= ci_oob_right))\n",
    "  \n",
    "    x.add_row(row)\n",
    "\n",
    "    count += 1\n",
    "\n",
    "\n",
    "print(x)"
   ]
  },
  {
   "cell_type": "markdown",
   "metadata": {},
   "source": [
    "# Task 3 (Predicting a data)"
   ]
  },
  {
   "cell_type": "code",
   "execution_count": 42,
   "metadata": {},
   "outputs": [],
   "source": [
    "x_q = [0.18, 20.0, 5.00, 0.0, 0.421, 5.60, 72.2, 7.95, 7.0, 30.0, 19.1, 372.13, 18.60]\n",
    "x_q = np.asarray(x_q).reshape(1, -1)\n",
    "y_pred_all_models = []\n",
    "\n",
    "\n",
    "for col_sampling, model in zip(list_of_selected_cols, list_of_models):\n",
    "    x_input = np.array(x_q).reshape(1, -1)[:, col_sampling]\n",
    "    y_pred_all_models.append(model.predict(x_input))\n",
    "\n",
    "    \n",
    "y_pred = np.around(np.divide(np.sum(y_pred_all_models, axis=0), 30), 1)"
   ]
  },
  {
   "cell_type": "code",
   "execution_count": 43,
   "metadata": {},
   "outputs": [
    {
     "data": {
      "text/plain": [
       "array([19.5])"
      ]
     },
     "execution_count": 43,
     "metadata": {},
     "output_type": "execute_result"
    }
   ],
   "source": [
    "y_pred"
   ]
  }
 ],
 "metadata": {
  "kernelspec": {
   "display_name": "Python 3",
   "language": "python",
   "name": "python3"
  },
  "language_info": {
   "codemirror_mode": {
    "name": "ipython",
    "version": 3
   },
   "file_extension": ".py",
   "mimetype": "text/x-python",
   "name": "python",
   "nbconvert_exporter": "python",
   "pygments_lexer": "ipython3",
   "version": "3.8.5"
  }
 },
 "nbformat": 4,
 "nbformat_minor": 4
}
